{
 "cells": [
  {
   "cell_type": "code",
   "execution_count": 1,
   "metadata": {},
   "outputs": [
    {
     "name": "stderr",
     "output_type": "stream",
     "text": [
      "/Users/yuanzan/anaconda3/lib/python3.8/site-packages/pandas/core/computation/expressions.py:20: UserWarning: Pandas requires version '2.7.3' or newer of 'numexpr' (version '2.7.1' currently installed).\n",
      "  from pandas.core.computation.check import NUMEXPR_INSTALLED\n"
     ]
    }
   ],
   "source": [
    "import pandas as pd\n",
    "import numpy as np\n",
    "import os,sys\n",
    "import seaborn as sns\n",
    "import matplotlib.pyplot as plt\n",
    "import anndata as ad\n",
    "import matplotlib.patches as mpatches\n",
    "\n",
    "import matplotlib as mpl\n",
    "from matplotlib.colors import ListedColormap, LinearSegmentedColormap\n",
    "from bx.intervals.intersection import Intersecter, Interval\n",
    "\n",
    "from scipy.stats import ranksums\n",
    "\n",
    "import sys\n",
    "import pyBigWig\n",
    "\n",
    "\n",
    "#sys.path.append('~/Documents/github/seqyuan/trackc/src/trackc/mapc')\n"
   ]
  },
  {
   "cell_type": "code",
   "execution_count": 6,
   "metadata": {},
   "outputs": [
    {
     "name": "stderr",
     "output_type": "stream",
     "text": [
      "/Users/yuanzan/Documents/github/seqyuan/trackc/src/trackc/links/links.py:130: SettingWithCopyWarning: \n",
      "A value is trying to be set on a copy of a slice from a DataFrame.\n",
      "Try using .loc[row_indexer,col_indexer] = value instead\n",
      "\n",
      "See the caveats in the documentation: https://pandas.pydata.org/pandas-docs/stable/user_guide/indexing.html#returning-a-view-versus-a-copy\n",
      "  links_df['chr1'] = links_df['chr1'].astype(str)\n",
      "/Users/yuanzan/Documents/github/seqyuan/trackc/src/trackc/links/links.py:131: SettingWithCopyWarning: \n",
      "A value is trying to be set on a copy of a slice from a DataFrame.\n",
      "Try using .loc[row_indexer,col_indexer] = value instead\n",
      "\n",
      "See the caveats in the documentation: https://pandas.pydata.org/pandas-docs/stable/user_guide/indexing.html#returning-a-view-versus-a-copy\n",
      "  links_df['chr2'] = links_df['chr2'].astype(str)\n",
      "/Users/yuanzan/Documents/github/seqyuan/trackc/src/trackc/links/links.py:130: SettingWithCopyWarning: \n",
      "A value is trying to be set on a copy of a slice from a DataFrame.\n",
      "Try using .loc[row_indexer,col_indexer] = value instead\n",
      "\n",
      "See the caveats in the documentation: https://pandas.pydata.org/pandas-docs/stable/user_guide/indexing.html#returning-a-view-versus-a-copy\n",
      "  links_df['chr1'] = links_df['chr1'].astype(str)\n",
      "/Users/yuanzan/Documents/github/seqyuan/trackc/src/trackc/links/links.py:131: SettingWithCopyWarning: \n",
      "A value is trying to be set on a copy of a slice from a DataFrame.\n",
      "Try using .loc[row_indexer,col_indexer] = value instead\n",
      "\n",
      "See the caveats in the documentation: https://pandas.pydata.org/pandas-docs/stable/user_guide/indexing.html#returning-a-view-versus-a-copy\n",
      "  links_df['chr2'] = links_df['chr2'].astype(str)\n"
     ]
    },
    {
     "name": "stdout",
     "output_type": "stream",
     "text": [
      "    chr1        x1        x2 chr2        y1        y2   length    left_mid  \\\n",
      "0     13  20550000  20560000   13  20730000  20740000   190000  20555000.0   \n",
      "2     13  20760000  20770000   13  21060000  21070000   310000  20765000.0   \n",
      "152   13  20660000  20670000   13  20730000  20740000    80000  20665000.0   \n",
      "284   13  20160000  20170000   13  20460000  20470000   310000  20165000.0   \n",
      "446   13  20760000  20770000   13  21290000  21300000   540000  20765000.0   \n",
      "590   13  20750000  20760000   13  21490000  21500000   750000  20755000.0   \n",
      "842   13  20120000  20130000   13  21840000  21850000  1730000  20125000.0   \n",
      "979   13  19780000  19790000   13  20290000  20300000   520000  19785000.0   \n",
      "998   13  19770000  19780000   13  20270000  20280000   510000  19775000.0   \n",
      "\n",
      "      right_mid  \n",
      "0    20735000.0  \n",
      "2    21065000.0  \n",
      "152  20735000.0  \n",
      "284  20465000.0  \n",
      "446  21295000.0  \n",
      "590  21495000.0  \n",
      "842  21845000.0  \n",
      "979  20295000.0  \n",
      "998  20275000.0  \n",
      "    chr1        x1        x2 chr2        y1        y2  length    left_mid  \\\n",
      "23    13  30160000  30170000   13  30270000  30280000  120000  30165000.0   \n",
      "34    13  30420000  30430000   13  30490000  30500000   80000  30425000.0   \n",
      "43    13  30080000  30090000   13  30280000  30290000  210000  30085000.0   \n",
      "93    13  29990000  30000000   13  30040000  30050000   60000  29995000.0   \n",
      "102   13  30420000  30430000   13  30680000  30690000  270000  30425000.0   \n",
      "114   13  30340000  30350000   13  30690000  30700000  360000  30345000.0   \n",
      "148   13  30490000  30500000   13  30680000  30690000  200000  30495000.0   \n",
      "270   13  30700000  30710000   13  30900000  30910000  210000  30705000.0   \n",
      "746   13  30080000  30090000   13  30690000  30700000  620000  30085000.0   \n",
      "\n",
      "      right_mid  \n",
      "23   30275000.0  \n",
      "34   30495000.0  \n",
      "43   30285000.0  \n",
      "93   30045000.0  \n",
      "102  30685000.0  \n",
      "114  30695000.0  \n",
      "148  30685000.0  \n",
      "270  30905000.0  \n",
      "746  30695000.0  \n",
      "    chr1        x1        x2 chr2        y1        y2  length    left_mid  \\\n",
      "329   13  60260000  60270000   13  60470000  60480000  220000  60265000.0   \n",
      "481   13  60250000  60260000   13  60900000  60910000  660000  60255000.0   \n",
      "492   13  60250000  60260000   13  60800000  60810000  560000  60255000.0   \n",
      "\n",
      "      right_mid  \n",
      "329  60475000.0  \n",
      "481  60905000.0  \n",
      "492  60805000.0  \n",
      "    chr1        x1        x2 chr2        y1        y2   length    left_mid  \\\n",
      "0     13  20550000  20560000   13  20730000  20740000   190000  20555000.0   \n",
      "2     13  20760000  20770000   13  21060000  21070000   310000  20765000.0   \n",
      "152   13  20660000  20670000   13  20730000  20740000    80000  20665000.0   \n",
      "284   13  20160000  20170000   13  20460000  20470000   310000  20165000.0   \n",
      "446   13  20760000  20770000   13  21290000  21300000   540000  20765000.0   \n",
      "590   13  20750000  20760000   13  21490000  21500000   750000  20755000.0   \n",
      "842   13  20120000  20130000   13  21840000  21850000  1730000  20125000.0   \n",
      "979   13  19780000  19790000   13  20290000  20300000   520000  19785000.0   \n",
      "998   13  19770000  19780000   13  20270000  20280000   510000  19775000.0   \n",
      "\n",
      "      right_mid  \n",
      "0    20735000.0  \n",
      "2    21065000.0  \n",
      "152  20735000.0  \n",
      "284  20465000.0  \n",
      "446  21295000.0  \n",
      "590  21495000.0  \n",
      "842  21845000.0  \n",
      "979  20295000.0  \n",
      "998  20275000.0  \n",
      "    chr1        x1        x2 chr2        y1        y2  length    left_mid  \\\n",
      "23    13  30160000  30170000   13  30270000  30280000  120000  30165000.0   \n",
      "34    13  30420000  30430000   13  30490000  30500000   80000  30425000.0   \n",
      "43    13  30080000  30090000   13  30280000  30290000  210000  30085000.0   \n",
      "93    13  29990000  30000000   13  30040000  30050000   60000  29995000.0   \n",
      "102   13  30420000  30430000   13  30680000  30690000  270000  30425000.0   \n",
      "114   13  30340000  30350000   13  30690000  30700000  360000  30345000.0   \n",
      "148   13  30490000  30500000   13  30680000  30690000  200000  30495000.0   \n",
      "270   13  30700000  30710000   13  30900000  30910000  210000  30705000.0   \n",
      "746   13  30080000  30090000   13  30690000  30700000  620000  30085000.0   \n",
      "\n",
      "      right_mid  \n",
      "23   30275000.0  \n",
      "34   30495000.0  \n",
      "43   30285000.0  \n",
      "93   30045000.0  \n",
      "102  30685000.0  \n",
      "114  30695000.0  \n",
      "148  30685000.0  \n",
      "270  30905000.0  \n",
      "746  30695000.0  \n",
      "    chr1        x1        x2 chr2        y1        y2  length    left_mid  \\\n",
      "329   13  60260000  60270000   13  60470000  60480000  220000  60265000.0   \n",
      "481   13  60250000  60260000   13  60900000  60910000  660000  60255000.0   \n",
      "492   13  60250000  60260000   13  60800000  60810000  560000  60255000.0   \n",
      "\n",
      "      right_mid  \n",
      "329  60475000.0  \n",
      "481  60905000.0  \n",
      "492  60805000.0  \n"
     ]
    },
    {
     "data": {
      "image/png": "[encoded data removed]",
      "text/plain": [
       "<Figure size 504x144 with 2 Axes>"
      ]
     },
     "metadata": {},
     "output_type": "display_data"
    }
   ],
   "source": [
    "from imp import reload\n",
    "sys.path.append('/Users/yuanzan/Documents/github/seqyuan/trackc/src/')\n",
    "from trackc import links\n",
    "reload(links)\n",
    "\n",
    "M2loops = pd.read_table(\"/Users/yuanzan/Documents/big_project/tongji/loop/M2_loops.bedpe\")\n",
    "\n",
    "\n",
    "fig, ax = plt.subplots(2, 1, figsize=(7,2) )\n",
    "\n",
    "links.links_track(M2loops,\n",
    "                      ax=ax[0],\n",
    "                      ylabel='M2',\n",
    "                      regions=['13:20000000-20800000','13:31000000-30000000',  '13:60000000-60600000'], \n",
    "                      links_type='loop',\n",
    "                      color='#66AC84',\n",
    "                      maxrange=3000000,\n",
    "                      invert_y=False,\n",
    "                      anchor='inside',\n",
    "                      label_rotation=0,\n",
    "                      label_fontsize=12)\n",
    "\n",
    "links.links_track(M2loops,\n",
    "                      ax=ax[1],\n",
    "                      ylabel='M2',\n",
    "                      regions=['13:20000000-20800000','13:31000000-30000000',  '13:60000000-60600000'], \n",
    "                      links_type='loop',\n",
    "                      color=['#66AC84', 'r'],\n",
    "                      maxrange=3000000,\n",
    "                      invert_y=True,\n",
    "                      anchor='inside',\n",
    "                      label_rotation=0,\n",
    "                      label_fontsize=12)\n"
   ]
  },
  {
   "cell_type": "code",
   "execution_count": null,
   "metadata": {},
   "outputs": [],
   "source": []
  },
  {
   "cell_type": "code",
   "execution_count": null,
   "metadata": {},
   "outputs": [],
   "source": []
  },
  {
   "cell_type": "code",
   "execution_count": null,
   "metadata": {},
   "outputs": [],
   "source": []
  },
  {
   "cell_type": "code",
   "execution_count": 40,
   "metadata": {},
   "outputs": [],
   "source": [
    "class GenomeRegion:\n",
    "    region = None\n",
    "    chrom = None\n",
    "    start = None\n",
    "    end = None\n",
    "    fetch_start = None\n",
    "    fetch_end = None\n",
    "    length = None\n",
    "    isReverse = False\n",
    "    \n",
    "    def __init__(self, region: str):\n",
    "        self.region = region\n",
    "        tmp = region.split(\":\")\n",
    "        self.chrom = tmp[0]\n",
    "        if len(tmp)==2:\n",
    "            self.start = int(tmp[1].split(\"-\")[0])\n",
    "            self.end = int(tmp[1].split(\"-\")[1])\n",
    "            if self.start > self.end:\n",
    "                self.isReverse = True\n",
    "                self.fetch_start = self.end\n",
    "                self.fetch_end = self.start\n",
    "            else:\n",
    "                self.fetch_start = self.start\n",
    "                self.fetch_end = self.end\n",
    "            self.length = abs(self.start - self.end)\n",
    "\n",
    "    def fetchRegion(self):\n",
    "        fetch_r = self.chrom\n",
    "        if self.fetch_start != None:\n",
    "            fetch_r = fetch_r + \":\" + str(self.fetch_start) + \"-\" +  str(self.fetch_end)\n",
    "        return fetch_r\n",
    "\n",
    "    def GenomeRegion2df(self):\n",
    "        \"\"\"\n",
    "        region4coolFetch = self.chrom + \":\" + str(self.start) + '-' + str(self.end)\n",
    "        if self.start == None:\n",
    "            region4coolFetch = self.chrom\n",
    "        else:\n",
    "            if self.start > self.end:\n",
    "                region4coolFetch = self.chrom + \":\" + str(self.end) + '-' + str(self.start)\n",
    "        \"\"\"\n",
    "        region4coolFetch = self.fetchRegion()\n",
    "\n",
    "        df = pd.DataFrame(\n",
    "            {'chrom':[self.chrom], \n",
    "            'start':[self.start],\n",
    "            'end':[self.end],\n",
    "            'isReverse':[self.isReverse],\n",
    "            'fetch_start':[self.fetch_start],\n",
    "            'fetch_end':[self.fetch_end],\n",
    "            'region4coolFetch': [region4coolFetch]\n",
    "            }, \n",
    "            index=[self.region])\n",
    "\n",
    "        return df"
   ]
  },
  {
   "cell_type": "code",
   "execution_count": 3,
   "metadata": {},
   "outputs": [
    {
     "data": {
      "text/plain": [
       "<module 'trackc.bigwig' from '/Users/yuanzan/Documents/github/seqyuan/trackc/src/trackc/bigwig/__init__.py'>"
      ]
     },
     "execution_count": 3,
     "metadata": {},
     "output_type": "execute_result"
    }
   ],
   "source": [
    "\n",
    "from imp import reload\n",
    "#import _getRegionsCmat as getRegionsCmat\n",
    "#import mapc as mapc\n",
    "#from _getRegionsCmat import GenomeRegion\n",
    "\n",
    "#reload(GenomeRegion)\n",
    "#reload(mapc)\n",
    "\n",
    "sys.path.append('/Users/yuanzan/Documents/github/seqyuan/trackc/src/')\n",
    "#import bigwig as bigwig\n",
    "from trackc import bigwig\n",
    "reload(bigwig)\n"
   ]
  },
  {
   "cell_type": "code",
   "execution_count": 4,
   "metadata": {},
   "outputs": [],
   "source": [
    "M2S = pyBigWig.open('/Users/yuanzan/Documents/big_project/tongji/histon/M2S.bw')"
   ]
  },
  {
   "cell_type": "code",
   "execution_count": 5,
   "metadata": {},
   "outputs": [
    {
     "data": {
      "image/png": "[encoded data removed]",
      "text/plain": [
       "<Figure size 504x144 with 2 Axes>"
      ]
     },
     "metadata": {},
     "output_type": "display_data"
    }
   ],
   "source": [
    "from trackc import bigwig\n",
    "reload(bigwig)\n",
    "\n",
    "\n",
    "fig, ax = plt.subplots(2, 1, figsize=(7,2) )\n",
    "\n",
    "a = bigwig.bw_track(M2S, ax[0], regions=['chr2:20000000-20800000','chr1:31000000-30000000',  'chr5:20000000-20600000'], \n",
    "             ylabel='aaa', binsize=10000, invert_y=False)\n",
    "\n",
    "b = bigwig.bw_track(M2S, ax[1], regions=['chr2:20000000-20800000','chr1:30000000-31000000',  'chr5:20600000-20000000'], \n",
    "             ylabel='aaa_r', binsize=10000, invert_y=True, color=['r', 'b'])\n",
    "\n"
   ]
  },
  {
   "cell_type": "code",
   "execution_count": 94,
   "metadata": {},
   "outputs": [
    {
     "name": "stdout",
     "output_type": "stream",
     "text": [
      "111111 0.025724074750733603 0.12357757976494944\n"
     ]
    }
   ],
   "source": [
    "\n",
    "a = bw_track(M2S, ax, regions=['chr1:30000000-31000000', 'chr2:20000000-20800000', 'chr5:20000000-20600000'], \n",
    "             ylabel='aaa', binsize=10000, reverse_y=True)\n"
   ]
  },
  {
   "cell_type": "code",
   "execution_count": 67,
   "metadata": {},
   "outputs": [
    {
     "data": {
      "text/html": [
       "<div>\n",
       "<style scoped>\n",
       "    .dataframe tbody tr th:only-of-type {\n",
       "        vertical-align: middle;\n",
       "    }\n",
       "\n",
       "    .dataframe tbody tr th {\n",
       "        vertical-align: top;\n",
       "    }\n",
       "\n",
       "    .dataframe thead th {\n",
       "        text-align: right;\n",
       "    }\n",
       "</style>\n",
       "<table border=\"1\" class=\"dataframe\">\n",
       "  <thead>\n",
       "    <tr style=\"text-align: right;\">\n",
       "      <th></th>\n",
       "      <th>chrom</th>\n",
       "      <th>start</th>\n",
       "      <th>end</th>\n",
       "      <th>isReverse</th>\n",
       "      <th>fetch_start</th>\n",
       "      <th>fetch_end</th>\n",
       "      <th>region4coolFetch</th>\n",
       "      <th>len</th>\n",
       "      <th>ratio</th>\n",
       "      <th>s</th>\n",
       "    </tr>\n",
       "  </thead>\n",
       "  <tbody>\n",
       "    <tr>\n",
       "      <th>chr1:31000000-30000000</th>\n",
       "      <td>chr1</td>\n",
       "      <td>31000000</td>\n",
       "      <td>30000000</td>\n",
       "      <td>True</td>\n",
       "      <td>30000000</td>\n",
       "      <td>31000000</td>\n",
       "      <td>chr1:30000000-31000000</td>\n",
       "      <td>1000000</td>\n",
       "      <td>0.416667</td>\n",
       "      <td>0.000000</td>\n",
       "    </tr>\n",
       "    <tr>\n",
       "      <th>chr2:20000000-20800000</th>\n",
       "      <td>chr2</td>\n",
       "      <td>20000000</td>\n",
       "      <td>20800000</td>\n",
       "      <td>False</td>\n",
       "      <td>20000000</td>\n",
       "      <td>20800000</td>\n",
       "      <td>chr2:20000000-20800000</td>\n",
       "      <td>800000</td>\n",
       "      <td>0.333333</td>\n",
       "      <td>0.416667</td>\n",
       "    </tr>\n",
       "    <tr>\n",
       "      <th>chr5:20000000-20600000</th>\n",
       "      <td>chr5</td>\n",
       "      <td>20000000</td>\n",
       "      <td>20600000</td>\n",
       "      <td>False</td>\n",
       "      <td>20000000</td>\n",
       "      <td>20600000</td>\n",
       "      <td>chr5:20000000-20600000</td>\n",
       "      <td>600000</td>\n",
       "      <td>0.250000</td>\n",
       "      <td>0.750000</td>\n",
       "    </tr>\n",
       "  </tbody>\n",
       "</table>\n",
       "</div>"
      ],
      "text/plain": [
       "                       chrom     start       end  isReverse  fetch_start  \\\n",
       "chr1:31000000-30000000  chr1  31000000  30000000       True     30000000   \n",
       "chr2:20000000-20800000  chr2  20000000  20800000      False     20000000   \n",
       "chr5:20000000-20600000  chr5  20000000  20600000      False     20000000   \n",
       "\n",
       "                        fetch_end        region4coolFetch      len     ratio  \\\n",
       "chr1:31000000-30000000   31000000  chr1:30000000-31000000  1000000  0.416667   \n",
       "chr2:20000000-20800000   20800000  chr2:20000000-20800000   800000  0.333333   \n",
       "chr5:20000000-20600000   20600000  chr5:20000000-20600000   600000  0.250000   \n",
       "\n",
       "                               s  \n",
       "chr1:31000000-30000000  0.000000  \n",
       "chr2:20000000-20800000  0.416667  \n",
       "chr5:20000000-20600000  0.750000  "
      ]
     },
     "execution_count": 67,
     "metadata": {},
     "output_type": "execute_result"
    }
   ],
   "source": [
    "a"
   ]
  },
  {
   "cell_type": "code",
   "execution_count": 2,
   "metadata": {},
   "outputs": [],
   "source": []
  },
  {
   "cell_type": "code",
   "execution_count": null,
   "metadata": {},
   "outputs": [],
   "source": []
  },
  {
   "cell_type": "code",
   "execution_count": null,
   "metadata": {},
   "outputs": [],
   "source": []
  },
  {
   "cell_type": "code",
   "execution_count": null,
   "metadata": {},
   "outputs": [],
   "source": []
  }
 ],
 "metadata": {
  "kernelspec": {
   "display_name": "Python 3",
   "language": "python",
   "name": "python3"
  },
  "language_info": {
   "codemirror_mode": {
    "name": "ipython",
    "version": 3
   },
   "file_extension": ".py",
   "mimetype": "text/x-python",
   "name": "python",
   "nbconvert_exporter": "python",
   "pygments_lexer": "ipython3",
   "version": "3.8.5"
  }
 },
 "nbformat": 4,
 "nbformat_minor": 4
}
