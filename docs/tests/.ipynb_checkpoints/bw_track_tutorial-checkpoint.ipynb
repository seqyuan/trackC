{
 "cells": [
  {
   "cell_type": "code",
   "execution_count": 3,
   "metadata": {},
   "outputs": [],
   "source": [
    "import pandas as pd\n",
    "import numpy as np\n",
    "import os,sys\n",
    "import seaborn as sns\n",
    "import matplotlib.pyplot as plt\n",
    "import anndata as ad\n",
    "import matplotlib.patches as mpatches\n",
    "\n",
    "import matplotlib as mpl\n",
    "from matplotlib.colors import ListedColormap, LinearSegmentedColormap\n",
    "from bx.intervals.intersection import Intersecter, Interval\n",
    "\n",
    "from scipy.stats import ranksums\n",
    "\n",
    "import sys\n",
    "import pyBigWig\n",
    "\n",
    "\n",
    "#sys.path.append('~/Documents/github/seqyuan/trackc/src/trackc/mapc')\n"
   ]
  },
  {
   "cell_type": "code",
   "execution_count": 6,
   "metadata": {},
   "outputs": [
    {
     "name": "stderr",
     "output_type": "stream",
     "text": [
      "/Users/yuanzan/Documents/github/seqyuan/trackc/src/trackc/links/links.py:130: SettingWithCopyWarning: \n",
      "A value is trying to be set on a copy of a slice from a DataFrame.\n",
      "Try using .loc[row_indexer,col_indexer] = value instead\n",
      "\n",
      "See the caveats in the documentation: https://pandas.pydata.org/pandas-docs/stable/user_guide/indexing.html#returning-a-view-versus-a-copy\n",
      "  links_df['chr1'] = links_df['chr1'].astype(str)\n",
      "/Users/yuanzan/Documents/github/seqyuan/trackc/src/trackc/links/links.py:131: SettingWithCopyWarning: \n",
      "A value is trying to be set on a copy of a slice from a DataFrame.\n",
      "Try using .loc[row_indexer,col_indexer] = value instead\n",
      "\n",
      "See the caveats in the documentation: https://pandas.pydata.org/pandas-docs/stable/user_guide/indexing.html#returning-a-view-versus-a-copy\n",
      "  links_df['chr2'] = links_df['chr2'].astype(str)\n",
      "/Users/yuanzan/Documents/github/seqyuan/trackc/src/trackc/links/links.py:130: SettingWithCopyWarning: \n",
      "A value is trying to be set on a copy of a slice from a DataFrame.\n",
      "Try using .loc[row_indexer,col_indexer] = value instead\n",
      "\n",
      "See the caveats in the documentation: https://pandas.pydata.org/pandas-docs/stable/user_guide/indexing.html#returning-a-view-versus-a-copy\n",
      "  links_df['chr1'] = links_df['chr1'].astype(str)\n",
      "/Users/yuanzan/Documents/github/seqyuan/trackc/src/trackc/links/links.py:131: SettingWithCopyWarning: \n",
      "A value is trying to be set on a copy of a slice from a DataFrame.\n",
      "Try using .loc[row_indexer,col_indexer] = value instead\n",
      "\n",
      "See the caveats in the documentation: https://pandas.pydata.org/pandas-docs/stable/user_guide/indexing.html#returning-a-view-versus-a-copy\n",
      "  links_df['chr2'] = links_df['chr2'].astype(str)\n"
     ]
    },
    {
     "name": "stdout",
     "output_type": "stream",
     "text": [
      "    chr1        x1        x2 chr2        y1        y2   length    left_mid  \\\n",
      "0     13  20550000  20560000   13  20730000  20740000   190000  20555000.0   \n",
      "2     13  20760000  20770000   13  21060000  21070000   310000  20765000.0   \n",
      "152   13  20660000  20670000   13  20730000  20740000    80000  20665000.0   \n",
      "284   13  20160000  20170000   13  20460000  20470000   310000  20165000.0   \n",
      "446   13  20760000  20770000   13  21290000  21300000   540000  20765000.0   \n",
      "590   13  20750000  20760000   13  21490000  21500000   750000  20755000.0   \n",
      "842   13  20120000  20130000   13  21840000  21850000  1730000  20125000.0   \n",
      "979   13  19780000  19790000   13  20290000  20300000   520000  19785000.0   \n",
      "998   13  19770000  19780000   13  20270000  20280000   510000  19775000.0   \n",
      "\n",
      "      right_mid  \n",
      "0    20735000.0  \n",
      "2    21065000.0  \n",
      "152  20735000.0  \n",
      "284  20465000.0  \n",
      "446  21295000.0  \n",
      "590  21495000.0  \n",
      "842  21845000.0  \n",
      "979  20295000.0  \n",
      "998  20275000.0  \n",
      "    chr1        x1        x2 chr2        y1        y2  length    left_mid  \\\n",
      "23    13  30160000  30170000   13  30270000  30280000  120000  30165000.0   \n",
      "34    13  30420000  30430000   13  30490000  30500000   80000  30425000.0   \n",
      "43    13  30080000  30090000   13  30280000  30290000  210000  30085000.0   \n",
      "93    13  29990000  30000000   13  30040000  30050000   60000  29995000.0   \n",
      "102   13  30420000  30430000   13  30680000  30690000  270000  30425000.0   \n",
      "114   13  30340000  30350000   13  30690000  30700000  360000  30345000.0   \n",
      "148   13  30490000  30500000   13  30680000  30690000  200000  30495000.0   \n",
      "270   13  30700000  30710000   13  30900000  30910000  210000  30705000.0   \n",
      "746   13  30080000  30090000   13  30690000  30700000  620000  30085000.0   \n",
      "\n",
      "      right_mid  \n",
      "23   30275000.0  \n",
      "34   30495000.0  \n",
      "43   30285000.0  \n",
      "93   30045000.0  \n",
      "102  30685000.0  \n",
      "114  30695000.0  \n",
      "148  30685000.0  \n",
      "270  30905000.0  \n",
      "746  30695000.0  \n",
      "    chr1        x1        x2 chr2        y1        y2  length    left_mid  \\\n",
      "329   13  60260000  60270000   13  60470000  60480000  220000  60265000.0   \n",
      "481   13  60250000  60260000   13  60900000  60910000  660000  60255000.0   \n",
      "492   13  60250000  60260000   13  60800000  60810000  560000  60255000.0   \n",
      "\n",
      "      right_mid  \n",
      "329  60475000.0  \n",
      "481  60905000.0  \n",
      "492  60805000.0  \n",
      "    chr1        x1        x2 chr2        y1        y2   length    left_mid  \\\n",
      "0     13  20550000  20560000   13  20730000  20740000   190000  20555000.0   \n",
      "2     13  20760000  20770000   13  21060000  21070000   310000  20765000.0   \n",
      "152   13  20660000  20670000   13  20730000  20740000    80000  20665000.0   \n",
      "284   13  20160000  20170000   13  20460000  20470000   310000  20165000.0   \n",
      "446   13  20760000  20770000   13  21290000  21300000   540000  20765000.0   \n",
      "590   13  20750000  20760000   13  21490000  21500000   750000  20755000.0   \n",
      "842   13  20120000  20130000   13  21840000  21850000  1730000  20125000.0   \n",
      "979   13  19780000  19790000   13  20290000  20300000   520000  19785000.0   \n",
      "998   13  19770000  19780000   13  20270000  20280000   510000  19775000.0   \n",
      "\n",
      "      right_mid  \n",
      "0    20735000.0  \n",
      "2    21065000.0  \n",
      "152  20735000.0  \n",
      "284  20465000.0  \n",
      "446  21295000.0  \n",
      "590  21495000.0  \n",
      "842  21845000.0  \n",
      "979  20295000.0  \n",
      "998  20275000.0  \n",
      "    chr1        x1        x2 chr2        y1        y2  length    left_mid  \\\n",
      "23    13  30160000  30170000   13  30270000  30280000  120000  30165000.0   \n",
      "34    13  30420000  30430000   13  30490000  30500000   80000  30425000.0   \n",
      "43    13  30080000  30090000   13  30280000  30290000  210000  30085000.0   \n",
      "93    13  29990000  30000000   13  30040000  30050000   60000  29995000.0   \n",
      "102   13  30420000  30430000   13  30680000  30690000  270000  30425000.0   \n",
      "114   13  30340000  30350000   13  30690000  30700000  360000  30345000.0   \n",
      "148   13  30490000  30500000   13  30680000  30690000  200000  30495000.0   \n",
      "270   13  30700000  30710000   13  30900000  30910000  210000  30705000.0   \n",
      "746   13  30080000  30090000   13  30690000  30700000  620000  30085000.0   \n",
      "\n",
      "      right_mid  \n",
      "23   30275000.0  \n",
      "34   30495000.0  \n",
      "43   30285000.0  \n",
      "93   30045000.0  \n",
      "102  30685000.0  \n",
      "114  30695000.0  \n",
      "148  30685000.0  \n",
      "270  30905000.0  \n",
      "746  30695000.0  \n",
      "    chr1        x1        x2 chr2        y1        y2  length    left_mid  \\\n",
      "329   13  60260000  60270000   13  60470000  60480000  220000  60265000.0   \n",
      "481   13  60250000  60260000   13  60900000  60910000  660000  60255000.0   \n",
      "492   13  60250000  60260000   13  60800000  60810000  560000  60255000.0   \n",
      "\n",
      "      right_mid  \n",
      "329  60475000.0  \n",
      "481  60905000.0  \n",
      "492  60805000.0  \n"
     ]
    },
    {
     "data": {
      "image/png": "[encoded data removed]",
      "text/plain": [
       "<Figure size 504x144 with 2 Axes>"
      ]
     },
     "metadata": {},
     "output_type": "display_data"
    }
   ],
   "source": [
    "from imp import reload\n",
    "sys.path.append('/Users/yuanzan/Documents/github/seqyuan/trackc/src/')\n",
    "from trackc import links\n",
    "reload(links)\n",
    "\n",
    "M2loops = pd.read_table(\"/Users/yuanzan/Documents/big_project/tongji/loop/M2_loops.bedpe\")\n",
    "\n",
    "\n",
    "fig, ax = plt.subplots(2, 1, figsize=(7,2) )\n",
    "\n",
    "links.links_track(M2loops,\n",
    "                      ax=ax[0],\n",
    "                      ylabel='M2',\n",
    "                      regions=['13:20000000-20800000','13:31000000-30000000',  '13:60000000-60600000'], \n",
    "                      links_type='loop',\n",
    "                      color='#66AC84',\n",
    "                      maxrange=3000000,\n",
    "                      invert_y=False,\n",
    "                      anchor='inside',\n",
    "                      label_rotation=0,\n",
    "                      label_fontsize=12)\n",
    "\n",
    "links.links_track(M2loops,\n",
    "                      ax=ax[1],\n",
    "                      ylabel='M2',\n",
    "                      regions=['13:20000000-20800000','13:31000000-30000000',  '13:60000000-60600000'], \n",
    "                      links_type='loop',\n",
    "                      color=['#66AC84', 'r'],\n",
    "                      maxrange=3000000,\n",
    "                      invert_y=True,\n",
    "                      anchor='inside',\n",
    "                      label_rotation=0,\n",
    "                      label_fontsize=12)\n"
   ]
  },
  {
   "cell_type": "code",
   "execution_count": null,
   "metadata": {},
   "outputs": [],
   "source": []
  },
  {
   "cell_type": "code",
   "execution_count": null,
   "metadata": {},
   "outputs": [],
   "source": []
  },
  {
   "cell_type": "code",
   "execution_count": null,
   "metadata": {},
   "outputs": [],
   "source": []
  },
  {
   "cell_type": "code",
   "execution_count": 40,
   "metadata": {},
   "outputs": [],
   "source": [
    "class GenomeRegion:\n",
    "    region = None\n",
    "    chrom = None\n",
    "    start = None\n",
    "    end = None\n",
    "    fetch_start = None\n",
    "    fetch_end = None\n",
    "    length = None\n",
    "    isReverse = False\n",
    "    \n",
    "    def __init__(self, region: str):\n",
    "        self.region = region\n",
    "        tmp = region.split(\":\")\n",
    "        self.chrom = tmp[0]\n",
    "        if len(tmp)==2:\n",
    "            self.start = int(tmp[1].split(\"-\")[0])\n",
    "            self.end = int(tmp[1].split(\"-\")[1])\n",
    "            if self.start > self.end:\n",
    "                self.isReverse = True\n",
    "                self.fetch_start = self.end\n",
    "                self.fetch_end = self.start\n",
    "            else:\n",
    "                self.fetch_start = self.start\n",
    "                self.fetch_end = self.end\n",
    "            self.length = abs(self.start - self.end)\n",
    "\n",
    "    def fetchRegion(self):\n",
    "        fetch_r = self.chrom\n",
    "        if self.fetch_start != None:\n",
    "            fetch_r = fetch_r + \":\" + str(self.fetch_start) + \"-\" +  str(self.fetch_end)\n",
    "        return fetch_r\n",
    "\n",
    "    def GenomeRegion2df(self):\n",
    "        \"\"\"\n",
    "        region4coolFetch = self.chrom + \":\" + str(self.start) + '-' + str(self.end)\n",
    "        if self.start == None:\n",
    "            region4coolFetch = self.chrom\n",
    "        else:\n",
    "            if self.start > self.end:\n",
    "                region4coolFetch = self.chrom + \":\" + str(self.end) + '-' + str(self.start)\n",
    "        \"\"\"\n",
    "        region4coolFetch = self.fetchRegion()\n",
    "\n",
    "        df = pd.DataFrame(\n",
    "            {'chrom':[self.chrom], \n",
    "            'start':[self.start],\n",
    "            'end':[self.end],\n",
    "            'isReverse':[self.isReverse],\n",
    "            'fetch_start':[self.fetch_start],\n",
    "            'fetch_end':[self.fetch_end],\n",
    "            'region4coolFetch': [region4coolFetch]\n",
    "            }, \n",
    "            index=[self.region])\n",
    "\n",
    "        return df"
   ]
  },
  {
   "cell_type": "code",
   "execution_count": 3,
   "metadata": {},
   "outputs": [
    {
     "data": {
      "text/plain": [
       "<module 'trackc.bigwig' from '/Users/yuanzan/Documents/github/seqyuan/trackc/src/trackc/bigwig/__init__.py'>"
      ]
     },
     "execution_count": 3,
     "metadata": {},
     "output_type": "execute_result"
    }
   ],
   "source": [
    "\n",
    "from imp import reload\n",
    "#import _getRegionsCmat as getRegionsCmat\n",
    "#import mapc as mapc\n",
    "#from _getRegionsCmat import GenomeRegion\n",
    "\n",
    "#reload(GenomeRegion)\n",
    "#reload(mapc)\n",
    "\n",
    "sys.path.append('/Users/yuanzan/Documents/github/seqyuan/trackc/src/')\n",
    "#import bigwig as bigwig\n",
    "from trackc import bigwig\n",
    "reload(bigwig)\n"
   ]
  },
  {
   "cell_type": "code",
   "execution_count": 4,
   "metadata": {},
   "outputs": [],
   "source": [
    "M2S = pyBigWig.open('/Users/yuanzan/Documents/big_project/tongji/histon/M2S.bw')"
   ]
  },
  {
   "cell_type": "code",
   "execution_count": 5,
   "metadata": {},
   "outputs": [
    {
     "data": {
      "image/png": "[encoded data removed]",
      "text/plain": [
       "<Figure size 504x144 with 2 Axes>"
      ]
     },
     "metadata": {},
     "output_type": "display_data"
    }
   ],
   "source": [
    "from trackc import bigwig\n",
    "reload(bigwig)\n",
    "\n",
    "\n",
    "fig, ax = plt.subplots(2, 1, figsize=(7,2) )\n",
    "\n",
    "a = bigwig.bw_track(M2S, ax[0], regions=['chr2:20000000-20800000','chr1:31000000-30000000',  'chr5:20000000-20600000'], \n",
    "             ylabel='aaa', binsize=10000, invert_y=False)\n",
    "\n",
    "b = bigwig.bw_track(M2S, ax[1], regions=['chr2:20000000-20800000','chr1:30000000-31000000',  'chr5:20600000-20000000'], \n",
    "             ylabel='aaa_r', binsize=10000, invert_y=True, color=['r', 'b'])\n",
    "\n"
   ]
  },
  {
   "cell_type": "code",
   "execution_count": 94,
   "metadata": {},
   "outputs": [
    {
     "name": "stdout",
     "output_type": "stream",
     "text": [
      "111111 0.025724074750733603 0.12357757976494944\n"
     ]
    }
   ],
   "source": [
    "\n",
    "a = bw_track(M2S, ax, regions=['chr1:30000000-31000000', 'chr2:20000000-20800000', 'chr5:20000000-20600000'], \n",
    "             ylabel='aaa', binsize=10000, reverse_y=True)\n"
   ]
  },
  {
   "cell_type": "code",
   "execution_count": 67,
   "metadata": {},
   "outputs": [
    {
     "data": {
      "text/html": [
       "<div>\n",
       "<style scoped>\n",
       "    .dataframe tbody tr th:only-of-type {\n",
       "        vertical-align: middle;\n",
       "    }\n",
       "\n",
       "    .dataframe tbody tr th {\n",
       "        vertical-align: top;\n",
       "    }\n",
       "\n",
       "    .dataframe thead th {\n",
       "        text-align: right;\n",
       "    }\n",
       "</style>\n",
       "<table border=\"1\" class=\"dataframe\">\n",
       "  <thead>\n",
       "    <tr style=\"text-align: right;\">\n",
       "      <th></th>\n",
       "      <th>chrom</th>\n",
       "      <th>start</th>\n",
       "      <th>end</th>\n",
       "      <th>isReverse</th>\n",
       "      <th>fetch_start</th>\n",
       "      <th>fetch_end</th>\n",
       "      <th>region4coolFetch</th>\n",
       "      <th>len</th>\n",
       "      <th>ratio</th>\n",
       "      <th>s</th>\n",
       "    </tr>\n",
       "  </thead>\n",
       "  <tbody>\n",
       "    <tr>\n",
       "      <th>chr1:31000000-30000000</th>\n",
       "      <td>chr1</td>\n",
       "      <td>31000000</td>\n",
       "      <td>30000000</td>\n",
       "      <td>True</td>\n",
       "      <td>30000000</td>\n",
       "      <td>31000000</td>\n",
       "      <td>chr1:30000000-31000000</td>\n",
       "      <td>1000000</td>\n",
       "      <td>0.416667</td>\n",
       "      <td>0.000000</td>\n",
       "    </tr>\n",
       "    <tr>\n",
       "      <th>chr2:20000000-20800000</th>\n",
       "      <td>chr2</td>\n",
       "      <td>20000000</td>\n",
       "      <td>20800000</td>\n",
       "      <td>False</td>\n",
       "      <td>20000000</td>\n",
       "      <td>20800000</td>\n",
       "      <td>chr2:20000000-20800000</td>\n",
       "      <td>800000</td>\n",
       "      <td>0.333333</td>\n",
       "      <td>0.416667</td>\n",
       "    </tr>\n",
       "    <tr>\n",
       "      <th>chr5:20000000-20600000</th>\n",
       "      <td>chr5</td>\n",
       "      <td>20000000</td>\n",
       "      <td>20600000</td>\n",
       "      <td>False</td>\n",
       "      <td>20000000</td>\n",
       "      <td>20600000</td>\n",
       "      <td>chr5:20000000-20600000</td>\n",
       "      <td>600000</td>\n",
       "      <td>0.250000</td>\n",
       "      <td>0.750000</td>\n",
       "    </tr>\n",
       "  </tbody>\n",
       "</table>\n",
       "</div>"
      ],
      "text/plain": [
       "                       chrom     start       end  isReverse  fetch_start  \\\n",
       "chr1:31000000-30000000  chr1  31000000  30000000       True     30000000   \n",
       "chr2:20000000-20800000  chr2  20000000  20800000      False     20000000   \n",
       "chr5:20000000-20600000  chr5  20000000  20600000      False     20000000   \n",
       "\n",
       "                        fetch_end        region4coolFetch      len     ratio  \\\n",
       "chr1:31000000-30000000   31000000  chr1:30000000-31000000  1000000  0.416667   \n",
       "chr2:20000000-20800000   20800000  chr2:20000000-20800000   800000  0.333333   \n",
       "chr5:20000000-20600000   20600000  chr5:20000000-20600000   600000  0.250000   \n",
       "\n",
       "                               s  \n",
       "chr1:31000000-30000000  0.000000  \n",
       "chr2:20000000-20800000  0.416667  \n",
       "chr5:20000000-20600000  0.750000  "
      ]
     },
     "execution_count": 67,
     "metadata": {},
     "output_type": "execute_result"
    }
   ],
   "source": [
    "a"
   ]
  },
  {
   "cell_type": "code",
   "execution_count": 2,
   "metadata": {},
   "outputs": [],
   "source": []
  },
  {
   "cell_type": "code",
   "execution_count": 287,
   "metadata": {},
   "outputs": [
    {
     "data": {
      "image/png": "[encoded data removed]",
      "text/plain": [
       "<Figure size 2160x432 with 1 Axes>"
      ]
     },
     "metadata": {},
     "output_type": "display_data"
    }
   ],
   "source": [
    "from imp import reload\n",
    "sys.path.append('/Users/yuanzan/Documents/github/seqyuan/trackc/src/')\n",
    "from trackc import gene\n",
    "reload(gene)\n",
    "\n",
    "\n",
    "fig, ax = plt.subplots(1, 1, figsize=(30,6) )\n",
    "\n",
    "gene.gene_track(gene_bed,\n",
    "               ax=ax,\n",
    "               regions=['chr2:20800000-21600000', 'chr2:21600000-20800000'],\n",
    "               track_type = 'gene',\n",
    "               line=6,\n",
    "               gene_fontszie = 12,\n",
    "               ylabel = None\n",
    "               )\n",
    "\n"
   ]
  },
  {
   "cell_type": "code",
   "execution_count": 74,
   "metadata": {},
   "outputs": [],
   "source": [
    "#help(gene.gene_track)"
   ]
  },
  {
   "cell_type": "code",
   "execution_count": 75,
   "metadata": {},
   "outputs": [],
   "source": [
    "gene_bed = pd.read_table(\"/Users/yuanzan/Documents/big_project/肿瘤医院/data/Homo_sapiens.gencode.v40lift37.chr_gtf2bed12_rmNoGeneName.bed\", header=None)"
   ]
  },
  {
   "cell_type": "code",
   "execution_count": 299,
   "metadata": {},
   "outputs": [
    {
     "data": {
      "image/png": "[encoded data removed]",
      "text/plain": [
       "<Figure size 1080x72 with 1 Axes>"
      ]
     },
     "metadata": {},
     "output_type": "display_data"
    }
   ],
   "source": [
    "\n",
    "fig, ax = plt.subplots(1, 1, figsize=(15,1) )\n",
    "\n",
    "gene.gene_track(gene_bed,\n",
    "               ax=ax,\n",
    "               regions=['chr1:31000000-30000000'],\n",
    "               track_type = 'gene',\n",
    "               line=1,\n",
    "               gene_fontszie = 12,\n",
    "               ylabel = None\n",
    "               )\n"
   ]
  },
  {
   "cell_type": "code",
   "execution_count": 187,
   "metadata": {},
   "outputs": [
    {
     "data": {
      "text/html": [
       "<div>\n",
       "<style scoped>\n",
       "    .dataframe tbody tr th:only-of-type {\n",
       "        vertical-align: middle;\n",
       "    }\n",
       "\n",
       "    .dataframe tbody tr th {\n",
       "        vertical-align: top;\n",
       "    }\n",
       "\n",
       "    .dataframe thead th {\n",
       "        text-align: right;\n",
       "    }\n",
       "</style>\n",
       "<table border=\"1\" class=\"dataframe\">\n",
       "  <thead>\n",
       "    <tr style=\"text-align: right;\">\n",
       "      <th></th>\n",
       "      <th>chrom</th>\n",
       "      <th>start</th>\n",
       "      <th>end</th>\n",
       "      <th>name</th>\n",
       "      <th>score</th>\n",
       "      <th>strand</th>\n",
       "      <th>thickStart</th>\n",
       "      <th>thickEnd</th>\n",
       "      <th>itemRgb</th>\n",
       "      <th>blockCount</th>\n",
       "      <th>blockSizes</th>\n",
       "      <th>blockStarts</th>\n",
       "    </tr>\n",
       "  </thead>\n",
       "  <tbody>\n",
       "    <tr>\n",
       "      <th>3348</th>\n",
       "      <td>chr2</td>\n",
       "      <td>20883774</td>\n",
       "      <td>21022890</td>\n",
       "      <td>LDAH</td>\n",
       "      <td>0</td>\n",
       "      <td>-</td>\n",
       "      <td>21022890</td>\n",
       "      <td>21022890</td>\n",
       "      <td>0</td>\n",
       "      <td>27</td>\n",
       "      <td>3080,82,234,169,93,143,155,173,895,110,187,67,...</td>\n",
       "      <td>20883774,20901330,20939731,20974570,21022797,2...</td>\n",
       "    </tr>\n",
       "  </tbody>\n",
       "</table>\n",
       "</div>"
      ],
      "text/plain": [
       "     chrom     start       end  name  score strand  thickStart  thickEnd  \\\n",
       "3348  chr2  20883774  21022890  LDAH      0      -    21022890  21022890   \n",
       "\n",
       "      itemRgb  blockCount                                         blockSizes  \\\n",
       "3348        0          27  3080,82,234,169,93,143,155,173,895,110,187,67,...   \n",
       "\n",
       "                                            blockStarts  \n",
       "3348  20883774,20901330,20939731,20974570,21022797,2...  "
      ]
     },
     "execution_count": 187,
     "metadata": {},
     "output_type": "execute_result"
    }
   ],
   "source": [
    "gene_bed[gene_bed['name']==\"LDAH\"]"
   ]
  },
  {
   "cell_type": "code",
   "execution_count": 77,
   "metadata": {},
   "outputs": [
    {
     "data": {
      "text/html": [
       "<div>\n",
       "<style scoped>\n",
       "    .dataframe tbody tr th:only-of-type {\n",
       "        vertical-align: middle;\n",
       "    }\n",
       "\n",
       "    .dataframe tbody tr th {\n",
       "        vertical-align: top;\n",
       "    }\n",
       "\n",
       "    .dataframe thead th {\n",
       "        text-align: right;\n",
       "    }\n",
       "</style>\n",
       "<table border=\"1\" class=\"dataframe\">\n",
       "  <thead>\n",
       "    <tr style=\"text-align: right;\">\n",
       "      <th></th>\n",
       "      <th>chrom</th>\n",
       "      <th>start</th>\n",
       "      <th>end</th>\n",
       "      <th>name</th>\n",
       "      <th>score</th>\n",
       "      <th>strand</th>\n",
       "      <th>thickStart</th>\n",
       "      <th>thickEnd</th>\n",
       "      <th>itemRgb</th>\n",
       "      <th>blockCount</th>\n",
       "      <th>blockSizes</th>\n",
       "      <th>blockStarts</th>\n",
       "    </tr>\n",
       "  </thead>\n",
       "  <tbody>\n",
       "    <tr>\n",
       "      <th>34291</th>\n",
       "      <td>chrM</td>\n",
       "      <td>10760</td>\n",
       "      <td>12137</td>\n",
       "      <td>MT-ND4</td>\n",
       "      <td>0</td>\n",
       "      <td>+</td>\n",
       "      <td>12137</td>\n",
       "      <td>12137</td>\n",
       "      <td>0</td>\n",
       "      <td>1</td>\n",
       "      <td>1377</td>\n",
       "      <td>10760</td>\n",
       "    </tr>\n",
       "    <tr>\n",
       "      <th>34292</th>\n",
       "      <td>chrM</td>\n",
       "      <td>12337</td>\n",
       "      <td>14148</td>\n",
       "      <td>MT-ND5</td>\n",
       "      <td>0</td>\n",
       "      <td>+</td>\n",
       "      <td>14148</td>\n",
       "      <td>14148</td>\n",
       "      <td>0</td>\n",
       "      <td>1</td>\n",
       "      <td>1811</td>\n",
       "      <td>12337</td>\n",
       "    </tr>\n",
       "    <tr>\n",
       "      <th>34293</th>\n",
       "      <td>chrM</td>\n",
       "      <td>14149</td>\n",
       "      <td>14673</td>\n",
       "      <td>MT-ND6</td>\n",
       "      <td>0</td>\n",
       "      <td>-</td>\n",
       "      <td>14673</td>\n",
       "      <td>14673</td>\n",
       "      <td>0</td>\n",
       "      <td>1</td>\n",
       "      <td>524</td>\n",
       "      <td>14149</td>\n",
       "    </tr>\n",
       "    <tr>\n",
       "      <th>34294</th>\n",
       "      <td>chrM</td>\n",
       "      <td>14747</td>\n",
       "      <td>15887</td>\n",
       "      <td>MT-CYB</td>\n",
       "      <td>0</td>\n",
       "      <td>+</td>\n",
       "      <td>15887</td>\n",
       "      <td>15887</td>\n",
       "      <td>0</td>\n",
       "      <td>1</td>\n",
       "      <td>1140</td>\n",
       "      <td>14747</td>\n",
       "    </tr>\n",
       "  </tbody>\n",
       "</table>\n",
       "</div>"
      ],
      "text/plain": [
       "      chrom  start    end    name  score strand  thickStart  thickEnd  \\\n",
       "34291  chrM  10760  12137  MT-ND4      0      +       12137     12137   \n",
       "34292  chrM  12337  14148  MT-ND5      0      +       14148     14148   \n",
       "34293  chrM  14149  14673  MT-ND6      0      -       14673     14673   \n",
       "34294  chrM  14747  15887  MT-CYB      0      +       15887     15887   \n",
       "\n",
       "       itemRgb  blockCount blockSizes blockStarts  \n",
       "34291        0           1       1377       10760  \n",
       "34292        0           1       1811       12337  \n",
       "34293        0           1        524       14149  \n",
       "34294        0           1       1140       14747  "
      ]
     },
     "execution_count": 77,
     "metadata": {},
     "output_type": "execute_result"
    }
   ],
   "source": [
    "gene_bed.iloc[-4::,:]"
   ]
  },
  {
   "cell_type": "code",
   "execution_count": 193,
   "metadata": {},
   "outputs": [
    {
     "data": {
      "text/plain": [
       "69558.0"
      ]
     },
     "execution_count": 193,
     "metadata": {},
     "output_type": "execute_result"
    }
   ],
   "source": [
    "139116/2"
   ]
  },
  {
   "cell_type": "code",
   "execution_count": 285,
   "metadata": {},
   "outputs": [
    {
     "name": "stdout",
     "output_type": "stream",
     "text": [
      "[1, 2, 3, 4]\n"
     ]
    },
    {
     "data": {
      "text/plain": [
       "[(21600000.0, 20800000.0)]"
      ]
     },
     "execution_count": 285,
     "metadata": {},
     "output_type": "execute_result"
    },
    {
     "data": {
      "image/png": "[encoded data removed]",
      "text/plain": [
       "<Figure size 504x144 with 1 Axes>"
      ]
     },
     "metadata": {
      "needs_background": "light"
     },
     "output_type": "display_data"
    }
   ],
   "source": [
    "fig, ax = plt.subplots(1, 1, figsize=(7,2) )\n",
    "\n",
    "ax.bar(x=20883774, height=0.4, width=139116, bottom=0.3, align='edge')\n",
    "\n",
    "ax.text(20883774, 0.5, \" asdf\", ha='left', va='center')\n",
    "#ax.set(xlim=[5,1])\n",
    "\n",
    "\n",
    "#arrow = mpatches.Arrow(x=1, y=0.5, dx=5, dy=0, \n",
    "#                       color='tab:red', width=0.1, fill=False, \n",
    "#                       head_length=0.4, head_width=0.2)\n",
    "\n",
    "\n",
    "x = list(range(1,5))\n",
    "print(x)\n",
    "\n",
    "\n",
    "ax.arrow(21022890, 0.3, -1, 0, \n",
    "         overhang=0, width=0,\n",
    "         head_width=0.1,\n",
    "         head_length=20000,\n",
    "         length_includes_head=False,\n",
    "         color='tab:red', \n",
    "         linewidth=1)\n",
    "\n",
    "\n",
    "ax.set(xlim=[21600000, 20800000])\n",
    "\n",
    "\n"
   ]
  },
  {
   "cell_type": "code",
   "execution_count": 105,
   "metadata": {},
   "outputs": [
    {
     "data": {
      "text/plain": [
       "{'-': matplotlib.patches.ArrowStyle.Curve,\n",
       " '<-': matplotlib.patches.ArrowStyle.CurveA,\n",
       " '->': matplotlib.patches.ArrowStyle.CurveB,\n",
       " '<->': matplotlib.patches.ArrowStyle.CurveAB,\n",
       " '<|-': matplotlib.patches.ArrowStyle.CurveFilledA,\n",
       " '-|>': matplotlib.patches.ArrowStyle.CurveFilledB,\n",
       " '<|-|>': matplotlib.patches.ArrowStyle.CurveFilledAB,\n",
       " ']-': matplotlib.patches.ArrowStyle.BracketA,\n",
       " '-[': matplotlib.patches.ArrowStyle.BracketB,\n",
       " ']-[': matplotlib.patches.ArrowStyle.BracketAB,\n",
       " '|-|': matplotlib.patches.ArrowStyle.BarAB,\n",
       " ']->': matplotlib.patches.ArrowStyle.BracketCurve,\n",
       " '<-[': matplotlib.patches.ArrowStyle.CurveBracket,\n",
       " 'simple': matplotlib.patches.ArrowStyle.Simple,\n",
       " 'fancy': matplotlib.patches.ArrowStyle.Fancy,\n",
       " 'wedge': matplotlib.patches.ArrowStyle.Wedge}"
      ]
     },
     "execution_count": 105,
     "metadata": {},
     "output_type": "execute_result"
    }
   ],
   "source": [
    "styles = mpatches.ArrowStyle.get_styles()\n",
    "styles"
   ]
  },
  {
   "cell_type": "code",
   "execution_count": 293,
   "metadata": {},
   "outputs": [],
   "source": [
    "bed_df = pd.read_table(\"/Users/yuanzan/Documents/github/seqyuan/trackc/docs/tests/IPWT1_peaks.xls\", header=26)"
   ]
  },
  {
   "cell_type": "code",
   "execution_count": 300,
   "metadata": {},
   "outputs": [
    {
     "data": {
      "text/html": [
       "<div>\n",
       "<style scoped>\n",
       "    .dataframe tbody tr th:only-of-type {\n",
       "        vertical-align: middle;\n",
       "    }\n",
       "\n",
       "    .dataframe tbody tr th {\n",
       "        vertical-align: top;\n",
       "    }\n",
       "\n",
       "    .dataframe thead th {\n",
       "        text-align: right;\n",
       "    }\n",
       "</style>\n",
       "<table border=\"1\" class=\"dataframe\">\n",
       "  <thead>\n",
       "    <tr style=\"text-align: right;\">\n",
       "      <th></th>\n",
       "      <th>chr</th>\n",
       "      <th>start</th>\n",
       "      <th>end</th>\n",
       "      <th>length</th>\n",
       "      <th>pileup</th>\n",
       "      <th>-log10(pvalue)</th>\n",
       "      <th>fold_enrichment</th>\n",
       "      <th>-log10(qvalue)</th>\n",
       "      <th>name</th>\n",
       "    </tr>\n",
       "  </thead>\n",
       "  <tbody>\n",
       "    <tr>\n",
       "      <th>0</th>\n",
       "      <td>NC_057316.1</td>\n",
       "      <td>58342</td>\n",
       "      <td>58727</td>\n",
       "      <td>386</td>\n",
       "      <td>79.30</td>\n",
       "      <td>1.35498</td>\n",
       "      <td>1.20124</td>\n",
       "      <td>0.68387</td>\n",
       "      <td>IPWT1_peak_1</td>\n",
       "    </tr>\n",
       "    <tr>\n",
       "      <th>1</th>\n",
       "      <td>NC_057316.1</td>\n",
       "      <td>62586</td>\n",
       "      <td>63145</td>\n",
       "      <td>560</td>\n",
       "      <td>83.86</td>\n",
       "      <td>1.32494</td>\n",
       "      <td>1.19159</td>\n",
       "      <td>0.65878</td>\n",
       "      <td>IPWT1_peak_2</td>\n",
       "    </tr>\n",
       "    <tr>\n",
       "      <th>2</th>\n",
       "      <td>NC_057316.1</td>\n",
       "      <td>190567</td>\n",
       "      <td>191107</td>\n",
       "      <td>541</td>\n",
       "      <td>90.21</td>\n",
       "      <td>1.40415</td>\n",
       "      <td>1.19341</td>\n",
       "      <td>0.72582</td>\n",
       "      <td>IPWT1_peak_3</td>\n",
       "    </tr>\n",
       "  </tbody>\n",
       "</table>\n",
       "</div>"
      ],
      "text/plain": [
       "           chr   start     end  length  pileup  -log10(pvalue)  \\\n",
       "0  NC_057316.1   58342   58727     386   79.30         1.35498   \n",
       "1  NC_057316.1   62586   63145     560   83.86         1.32494   \n",
       "2  NC_057316.1  190567  191107     541   90.21         1.40415   \n",
       "\n",
       "   fold_enrichment  -log10(qvalue)          name  \n",
       "0          1.20124         0.68387  IPWT1_peak_1  \n",
       "1          1.19159         0.65878  IPWT1_peak_2  \n",
       "2          1.19341         0.72582  IPWT1_peak_3  "
      ]
     },
     "execution_count": 300,
     "metadata": {},
     "output_type": "execute_result"
    }
   ],
   "source": [
    "\n",
    "bed_df.head(3)"
   ]
  },
  {
   "cell_type": "code",
   "execution_count": 302,
   "metadata": {},
   "outputs": [
    {
     "data": {
      "text/html": [
       "<div>\n",
       "<style scoped>\n",
       "    .dataframe tbody tr th:only-of-type {\n",
       "        vertical-align: middle;\n",
       "    }\n",
       "\n",
       "    .dataframe tbody tr th {\n",
       "        vertical-align: top;\n",
       "    }\n",
       "\n",
       "    .dataframe thead th {\n",
       "        text-align: right;\n",
       "    }\n",
       "</style>\n",
       "<table border=\"1\" class=\"dataframe\">\n",
       "  <thead>\n",
       "    <tr style=\"text-align: right;\">\n",
       "      <th></th>\n",
       "      <th>chr</th>\n",
       "      <th>start</th>\n",
       "      <th>end</th>\n",
       "      <th>length</th>\n",
       "      <th>pileup</th>\n",
       "      <th>-log10(pvalue)</th>\n",
       "      <th>fold_enrichment</th>\n",
       "      <th>-log10(qvalue)</th>\n",
       "      <th>name</th>\n",
       "    </tr>\n",
       "  </thead>\n",
       "  <tbody>\n",
       "    <tr>\n",
       "      <th>0</th>\n",
       "      <td>NC_057316.1</td>\n",
       "      <td>58342</td>\n",
       "      <td>58727</td>\n",
       "      <td>386</td>\n",
       "      <td>79.30</td>\n",
       "      <td>1.35498</td>\n",
       "      <td>1.20124</td>\n",
       "      <td>0.68387</td>\n",
       "      <td>IPWT1_peak_1</td>\n",
       "    </tr>\n",
       "    <tr>\n",
       "      <th>1</th>\n",
       "      <td>NC_057316.1</td>\n",
       "      <td>62586</td>\n",
       "      <td>63145</td>\n",
       "      <td>560</td>\n",
       "      <td>83.86</td>\n",
       "      <td>1.32494</td>\n",
       "      <td>1.19159</td>\n",
       "      <td>0.65878</td>\n",
       "      <td>IPWT1_peak_2</td>\n",
       "    </tr>\n",
       "    <tr>\n",
       "      <th>2</th>\n",
       "      <td>NC_057316.1</td>\n",
       "      <td>190567</td>\n",
       "      <td>191107</td>\n",
       "      <td>541</td>\n",
       "      <td>90.21</td>\n",
       "      <td>1.40415</td>\n",
       "      <td>1.19341</td>\n",
       "      <td>0.72582</td>\n",
       "      <td>IPWT1_peak_3</td>\n",
       "    </tr>\n",
       "    <tr>\n",
       "      <th>3</th>\n",
       "      <td>NC_057316.1</td>\n",
       "      <td>196289</td>\n",
       "      <td>197034</td>\n",
       "      <td>746</td>\n",
       "      <td>96.94</td>\n",
       "      <td>2.80929</td>\n",
       "      <td>1.33813</td>\n",
       "      <td>1.93215</td>\n",
       "      <td>IPWT1_peak_4</td>\n",
       "    </tr>\n",
       "    <tr>\n",
       "      <th>4</th>\n",
       "      <td>NC_057316.1</td>\n",
       "      <td>198332</td>\n",
       "      <td>201416</td>\n",
       "      <td>3085</td>\n",
       "      <td>93.64</td>\n",
       "      <td>1.66496</td>\n",
       "      <td>1.22242</td>\n",
       "      <td>0.94546</td>\n",
       "      <td>IPWT1_peak_5</td>\n",
       "    </tr>\n",
       "    <tr>\n",
       "      <th>...</th>\n",
       "      <td>...</td>\n",
       "      <td>...</td>\n",
       "      <td>...</td>\n",
       "      <td>...</td>\n",
       "      <td>...</td>\n",
       "      <td>...</td>\n",
       "      <td>...</td>\n",
       "      <td>...</td>\n",
       "      <td>...</td>\n",
       "    </tr>\n",
       "    <tr>\n",
       "      <th>2910</th>\n",
       "      <td>NC_057322.1</td>\n",
       "      <td>2265874</td>\n",
       "      <td>2275720</td>\n",
       "      <td>9847</td>\n",
       "      <td>94.81</td>\n",
       "      <td>2.43942</td>\n",
       "      <td>1.29230</td>\n",
       "      <td>1.62102</td>\n",
       "      <td>IPWT1_peak_2911</td>\n",
       "    </tr>\n",
       "    <tr>\n",
       "      <th>2911</th>\n",
       "      <td>NC_057322.1</td>\n",
       "      <td>2277245</td>\n",
       "      <td>2279453</td>\n",
       "      <td>2209</td>\n",
       "      <td>109.18</td>\n",
       "      <td>2.98786</td>\n",
       "      <td>1.31725</td>\n",
       "      <td>2.10052</td>\n",
       "      <td>IPWT1_peak_2912</td>\n",
       "    </tr>\n",
       "    <tr>\n",
       "      <th>2912</th>\n",
       "      <td>NC_057322.1</td>\n",
       "      <td>2287245</td>\n",
       "      <td>2301139</td>\n",
       "      <td>13895</td>\n",
       "      <td>94.78</td>\n",
       "      <td>2.60956</td>\n",
       "      <td>1.30954</td>\n",
       "      <td>1.76922</td>\n",
       "      <td>IPWT1_peak_2913</td>\n",
       "    </tr>\n",
       "    <tr>\n",
       "      <th>2913</th>\n",
       "      <td>NC_057322.1</td>\n",
       "      <td>2303378</td>\n",
       "      <td>2303957</td>\n",
       "      <td>580</td>\n",
       "      <td>84.04</td>\n",
       "      <td>1.49058</td>\n",
       "      <td>1.21104</td>\n",
       "      <td>0.80014</td>\n",
       "      <td>IPWT1_peak_2914</td>\n",
       "    </tr>\n",
       "    <tr>\n",
       "      <th>2914</th>\n",
       "      <td>NC_057322.1</td>\n",
       "      <td>2308938</td>\n",
       "      <td>2310008</td>\n",
       "      <td>1071</td>\n",
       "      <td>105.03</td>\n",
       "      <td>5.43143</td>\n",
       "      <td>1.54028</td>\n",
       "      <td>4.25653</td>\n",
       "      <td>IPWT1_peak_2915</td>\n",
       "    </tr>\n",
       "  </tbody>\n",
       "</table>\n",
       "<p>2915 rows × 9 columns</p>\n",
       "</div>"
      ],
      "text/plain": [
       "              chr    start      end  length  pileup  -log10(pvalue)  \\\n",
       "0     NC_057316.1    58342    58727     386   79.30         1.35498   \n",
       "1     NC_057316.1    62586    63145     560   83.86         1.32494   \n",
       "2     NC_057316.1   190567   191107     541   90.21         1.40415   \n",
       "3     NC_057316.1   196289   197034     746   96.94         2.80929   \n",
       "4     NC_057316.1   198332   201416    3085   93.64         1.66496   \n",
       "...           ...      ...      ...     ...     ...             ...   \n",
       "2910  NC_057322.1  2265874  2275720    9847   94.81         2.43942   \n",
       "2911  NC_057322.1  2277245  2279453    2209  109.18         2.98786   \n",
       "2912  NC_057322.1  2287245  2301139   13895   94.78         2.60956   \n",
       "2913  NC_057322.1  2303378  2303957     580   84.04         1.49058   \n",
       "2914  NC_057322.1  2308938  2310008    1071  105.03         5.43143   \n",
       "\n",
       "      fold_enrichment  -log10(qvalue)             name  \n",
       "0             1.20124         0.68387     IPWT1_peak_1  \n",
       "1             1.19159         0.65878     IPWT1_peak_2  \n",
       "2             1.19341         0.72582     IPWT1_peak_3  \n",
       "3             1.33813         1.93215     IPWT1_peak_4  \n",
       "4             1.22242         0.94546     IPWT1_peak_5  \n",
       "...               ...             ...              ...  \n",
       "2910          1.29230         1.62102  IPWT1_peak_2911  \n",
       "2911          1.31725         2.10052  IPWT1_peak_2912  \n",
       "2912          1.30954         1.76922  IPWT1_peak_2913  \n",
       "2913          1.21104         0.80014  IPWT1_peak_2914  \n",
       "2914          1.54028         4.25653  IPWT1_peak_2915  \n",
       "\n",
       "[2915 rows x 9 columns]"
      ]
     },
     "execution_count": 302,
     "metadata": {},
     "output_type": "execute_result"
    }
   ],
   "source": [
    "bed_df"
   ]
  },
  {
   "cell_type": "code",
   "execution_count": 301,
   "metadata": {},
   "outputs": [],
   "source": [
    "bed5 = bed_df[['chr', 'start', 'end', 'name', '-log10(pvalue)']]"
   ]
  },
  {
   "cell_type": "code",
   "execution_count": 332,
   "metadata": {},
   "outputs": [
    {
     "data": {
      "image/png": "[encoded data removed]",
      "text/plain": [
       "<Figure size 720x144 with 1 Axes>"
      ]
     },
     "metadata": {},
     "output_type": "display_data"
    }
   ],
   "source": [
    "from imp import reload\n",
    "sys.path.append('/Users/yuanzan/Documents/github/seqyuan/trackc/src/')\n",
    "from trackc import bed\n",
    "reload(bed)\n",
    "\n",
    "\n",
    "fig, ax = plt.subplots(1, 1, figsize=(10,2) )\n",
    "\n",
    "\n",
    "bed.bed_track(bed5,\n",
    "              ax,\n",
    "              regions=['NC_057316.1:1100000-1600000', 'NC_057322.1:1300000-1200000'],\n",
    "              track_style='line',\n",
    "              color = ['tab:red', 'tab:blue'],\n",
    "              cmap = None,\n",
    "              intervals = 1,\n",
    "              show_names = False,\n",
    "              alpha = 1,\n",
    "              title= 'tyty',\n",
    "              title_fontszie = 12,\n",
    "              title_rotation = 45,\n",
    "              )\n"
   ]
  },
  {
   "cell_type": "code",
   "execution_count": 333,
   "metadata": {},
   "outputs": [
    {
     "data": {
      "image/png": "[encoded data removed]",
      "text/plain": [
       "<Figure size 720x144 with 1 Axes>"
      ]
     },
     "metadata": {},
     "output_type": "display_data"
    }
   ],
   "source": [
    "fig, ax = plt.subplots(1, 1, figsize=(10,2) )\n",
    "\n",
    "bed.bed_track(bed5,\n",
    "              ax,\n",
    "              regions=['NC_057316.1:1100000-1600000', 'NC_057322.1:1300000-1200000'],\n",
    "              track_style='bar',\n",
    "              color = ['tab:red', 'tab:blue'],\n",
    "              cmap = None,\n",
    "              intervals = 1,\n",
    "              show_names = False,\n",
    "              alpha = 0.6,\n",
    "              title= 'tyty',\n",
    "              title_fontszie = 12,\n",
    "              title_rotation = 45,\n",
    "              )\n"
   ]
  },
  {
   "cell_type": "code",
   "execution_count": 399,
   "metadata": {},
   "outputs": [
    {
     "data": {
      "image/png": "[encoded data removed]",
      "text/plain": [
       "<Figure size 720x144 with 1 Axes>"
      ]
     },
     "metadata": {},
     "output_type": "display_data"
    }
   ],
   "source": [
    "from imp import reload\n",
    "sys.path.append('/Users/yuanzan/Documents/github/seqyuan/trackc/src/')\n",
    "from trackc import bed\n",
    "reload(bed)\n",
    "\n",
    "\n",
    "fig, ax = plt.subplots(1, 1, figsize=(10,2) )\n",
    "\n",
    "\n",
    "bed.bed_track(bed5,\n",
    "              ax,\n",
    "              regions=['NC_057316.1:1100000-1600000', 'NC_057322.1:1300000-1200000'],\n",
    "              track_style='rec',\n",
    "              color = ['tab:red', 'tab:blue'],\n",
    "              cmap = ['Blues'],\n",
    "              intervals = 2,\n",
    "              show_names = False,\n",
    "              alpha = 0.6,\n",
    "              title= 'tyty',\n",
    "              title_fontszie = 12,\n",
    "              title_rotation = 45,\n",
    "              score_label_size=16\n",
    "              )\n"
   ]
  },
  {
   "cell_type": "code",
   "execution_count": 404,
   "metadata": {},
   "outputs": [
    {
     "name": "stdout",
     "output_type": "stream",
     "text": [
      "[0.79344867 0.87014225 0.94291426 1.        ]\n",
      "[0.11787774 0.4283737  0.6982699  1.        ]\n"
     ]
    },
    {
     "data": {
      "image/png": "[encoded data removed]",
      "text/plain": [
       "<Figure size 720x72 with 2 Axes>"
      ]
     },
     "metadata": {},
     "output_type": "display_data"
    }
   ],
   "source": [
    "from imp import reload\n",
    "sys.path.append('/Users/yuanzan/Documents/github/seqyuan/trackc/src/')\n",
    "from trackc import bed\n",
    "reload(bed)\n",
    "\n",
    "\n",
    "fig, ax = plt.subplots(2, 1, figsize=(10, 1) )\n",
    "\n",
    "\n",
    "bed.bed_track(bed5,\n",
    "              ax[0],\n",
    "              regions=['NC_057316.1:1100000-1600000', 'NC_057322.1:1300000-1200000'],\n",
    "              track_style='triangle',\n",
    "              color = ['tab:red', 'tab:blue'],\n",
    "              cmap = ['Blues'],\n",
    "              intervals = 2,\n",
    "              alpha = 0.6,\n",
    "              title= 'tyty',\n",
    "              title_fontszie = 12,\n",
    "              title_rotation = 45,\n",
    "              score_label_size=8\n",
    "              )\n",
    "\n",
    "bed.bed_track(bed5,\n",
    "              ax[1],\n",
    "              regions=['NC_057316.1:1100000-1600000', 'NC_057322.1:1300000-1200000'],\n",
    "              track_style='rec',\n",
    "              color = ['tab:red', 'tab:blue'],\n",
    "              cmap = ['Blues'],\n",
    "              intervals = 2,\n",
    "              alpha = 0.6,\n",
    "              title= 'tyty',\n",
    "              title_fontszie = 12,\n",
    "              title_rotation = 45,\n",
    "              score_label_size=8\n",
    "              )\n"
   ]
  },
  {
   "cell_type": "code",
   "execution_count": 368,
   "metadata": {},
   "outputs": [
    {
     "data": {
      "text/plain": [
       "array([[0., 0.],\n",
       "       [6., 0.],\n",
       "       [3., 6.]])"
      ]
     },
     "execution_count": 368,
     "metadata": {},
     "output_type": "execute_result"
    }
   ],
   "source": [
    "def make_tri_data(start, end):\n",
    "    data = np.array([[start, 0], [end, 0], [start+(end-start)/2, (end-start)]])\n",
    "    \n",
    "    return data\n",
    "\n",
    "make_tri_data(0,6)\n"
   ]
  },
  {
   "cell_type": "code",
   "execution_count": null,
   "metadata": {},
   "outputs": [],
   "source": []
  },
  {
   "cell_type": "code",
   "execution_count": 297,
   "metadata": {},
   "outputs": [],
   "source": [
    "aa = pd.read_table(\"~/Desktop/WTin_WTc.anno.xls\")"
   ]
  },
  {
   "cell_type": "code",
   "execution_count": 428,
   "metadata": {},
   "outputs": [
    {
     "data": {
      "image/png": "[encoded data removed]",
      "text/plain": [
       "<Figure size 720x72 with 1 Axes>"
      ]
     },
     "metadata": {
      "needs_background": "light"
     },
     "output_type": "display_data"
    }
   ],
   "source": [
    "from imp import reload\n",
    "sys.path.append('/Users/yuanzan/Documents/github/seqyuan/trackc/src/')\n",
    "from trackc import scale\n",
    "reload(scale)\n",
    "\n",
    "\n",
    "fig, ax = plt.subplots(1, 1, figsize=(10, 1) )\n",
    "\n",
    "\n",
    "scale.scale_track(ax,\n",
    "                  regions=['NC_057316.1:1100000-1600000', 'NC_057322.1:1300000-1200000'],\n",
    "                  scale_adjust='Mb'\n",
    "              )\n"
   ]
  },
  {
   "cell_type": "code",
   "execution_count": 413,
   "metadata": {},
   "outputs": [],
   "source": [
    "a = [1,2,3]\n",
    "a"
   ]
  },
  {
   "cell_type": "code",
   "execution_count": 64,
   "metadata": {},
   "outputs": [
    {
     "data": {
      "image/png": "[encoded data removed]",
      "text/plain": [
       "<Figure size 720x72 with 1 Axes>"
      ]
     },
     "metadata": {
      "needs_background": "light"
     },
     "output_type": "display_data"
    }
   ],
   "source": [
    "from imp import reload\n",
    "import sys\n",
    "sys.path.append('/Users/yuanzan/Documents/github/seqyuan/trackc/src/')\n",
    "from trackc import scale\n",
    "reload(scale)\n",
    "\n",
    "\n",
    "fig, ax = plt.subplots(1, 1, figsize=(10, 1) )\n",
    "\n",
    "\n",
    "scale.multi_scale_track(ax,\n",
    "                        regions=['NC_057316.1:1100000-1600000', 'NC_057322.1:1300000-1200000'],\n",
    "                        scale_adjust='Mb',\n",
    "                        intervals =2,\n",
    "              )\n"
   ]
  },
  {
   "cell_type": "code",
   "execution_count": 63,
   "metadata": {},
   "outputs": [
    {
     "data": {
      "image/png": "[encoded data removed]",
      "text/plain": [
       "<Figure size 720x72 with 1 Axes>"
      ]
     },
     "metadata": {
      "needs_background": "light"
     },
     "output_type": "display_data"
    }
   ],
   "source": [
    "from imp import reload\n",
    "import sys\n",
    "sys.path.append('/Users/yuanzan/Documents/github/seqyuan/trackc/src/')\n",
    "from trackc import scale\n",
    "reload(scale)\n",
    "\n",
    "fig, ax = plt.subplots(1, 1, figsize=(10, 1) )\n",
    "\n",
    "\n",
    "scale.multi_scale_track(ax,\n",
    "                        regions=['2:1200000-6450000', '3.1:4300000-7800000'],\n",
    "                        scale_adjust='Mb',\n",
    "                        intervals =2,\n",
    "                        tick_rotation=0\n",
    "              )\n"
   ]
  },
  {
   "cell_type": "markdown",
   "metadata": {},
   "source": [
    "# virtual4C"
   ]
  },
  {
   "cell_type": "code",
   "execution_count": 67,
   "metadata": {},
   "outputs": [],
   "source": [
    "import cooler\n",
    "BxPC3_chr11 = cooler.Cooler('/Users/yuanzan/Documents/github/seqyuan/trackc_data/BxPC3.chr11.mcool::/resolutions/10000')\n",
    "HPDE6C7_chr11 = cooler.Cooler('/Users/yuanzan/Documents/github/seqyuan/trackc_data/HPDE6C7.chr11.mcool::/resolutions/10000')\n"
   ]
  },
  {
   "cell_type": "code",
   "execution_count": 104,
   "metadata": {},
   "outputs": [
    {
     "data": {
      "image/png": "[encoded data removed]",
      "text/html": [
       "<div style=\"vertical-align: middle;\"><strong>from_list</strong> </div><div class=\"cmap\"><img alt=\"from_list colormap\" title=\"from_list\" style=\"border: 1px solid #555;\" src=\"data:image/png;base64,iVBORw0KGgoAAAANSUhEUgAAAgAAAABACAYAAABsv8+/AAAAGHRFWHRUaXRsZQBmcm9tX2xpc3QgY29sb3JtYXBDL89FAAAAHnRFWHREZXNjcmlwdGlvbgBmcm9tX2xpc3QgY29sb3JtYXABtCnOAAAAMHRFWHRBdXRob3IATWF0cGxvdGxpYiB2My42LjIsIGh0dHBzOi8vbWF0cGxvdGxpYi5vcmdxzlVfAAAAMnRFWHRTb2Z0d2FyZQBNYXRwbG90bGliIHYzLjYuMiwgaHR0cHM6Ly9tYXRwbG90bGliLm9yZ19oyngAAAInSURBVHic7dZLjpwwAEVRA5GyoGwp+98BOBNDy4BTHzF750yQv0VVS6071VprKaX8/vO3lFLKNC/fPZd+PH99fr5df/++ue2f2rh/ztM+Lv38ef80mL/c0983n85/fX97Lm3fMj/z/PXxufmZ+/bve3yf0o+P9dKdG62ff5/j3Ol3Xfb953terp/uO/0d2rEyHefbuPTvc6wf+0frUz8+7uvf7+310ecd+/txqdvtc9rH22i9/vf85Z7Bfa/uuZwfvEdd13b/2pb38fbe/On8vv6z/835h96jrvvnbG15u52vg/nL/su5td83uu+x96htXLt9x3gbzB/n+nt+7n+1735+eG67n9/afJsua/1s3P7KH597ery/x/5/AgAIIgAAIJAAAIBAAgAAAgkAAAgkAAAgkAAAgEACAAACCQAACCQAACCQAACAQAIAAAIJAAAIJAAAIJAAAIBAAgAAAgkAAAgkAAAgkAAAgEACAAACCQAACCQAACCQAACAQAIAAAIJAAAIJAAAIJAAAIBAAgAAAgkAAAgkAAAgkAAAgEACAAACCQAACCQAACCQAACAQAIAAAIJAAAIJAAAIJAAAIBAAgAAAgkAAAgkAAAgkAAAgEACAAACCQAACCQAACCQAACAQAIAAAIJAAAIJAAAIJAAAIBAAgAAAgkAAAgkAAAgkAAAgEACAAACCQAACCQAACCQAACAQAIAAAIJAAAIJAAAIJAAAIBA/wA/v0kUtOC7sAAAAABJRU5ErkJggg==\"></div><div style=\"vertical-align: middle; max-width: 514px; display: flex; justify-content: space-between;\"><div style=\"float: left;\"><div title=\"#ffffffff\" style=\"display: inline-block; width: 1em; height: 1em; margin: 0; vertical-align: middle; border: 1px solid #555; background-color: #ffffffff;\"></div> under</div><div style=\"margin: 0 auto; display: inline-block;\">bad <div title=\"#00000000\" style=\"display: inline-block; width: 1em; height: 1em; margin: 0; vertical-align: middle; border: 1px solid #555; background-color: #00000000;\"></div></div><div style=\"float: right;\">over <div title=\"#67001fff\" style=\"display: inline-block; width: 1em; height: 1em; margin: 0; vertical-align: middle; border: 1px solid #555; background-color: #67001fff;\"></div></div>"
      ],
      "text/plain": [
       "<matplotlib.colors.ListedColormap at 0x7fb6566ae1f0>"
      ]
     },
     "execution_count": 104,
     "metadata": {},
     "output_type": "execute_result"
    }
   ],
   "source": [
    "fruitpunch = sns.blend_palette(['white', 'red'], as_cmap=True)\n",
    "fruitpunch2 = sns.blend_palette(['white', 'blue'], as_cmap=True)\n",
    "cmap4 = LinearSegmentedColormap.from_list('custom1', \n",
    "                                             [(0, 'white'),\n",
    "                                              (0.4, 'r'),\n",
    "                                              (0.7, 'r'),\n",
    "                                              (1, 'r')], N=256)\n",
    "\n",
    "mapc.colorC(cname='RdBu_r')"
   ]
  },
  {
   "cell_type": "code",
   "execution_count": 105,
   "metadata": {},
   "outputs": [
    {
     "name": "stdout",
     "output_type": "stream",
     "text": [
      "maxrange: 100 minrange: 1.0\n",
      "maxrange: 300 minrange: 1\n"
     ]
    },
    {
     "ename": "NameError",
     "evalue": "name 'add_line' is not defined",
     "output_type": "error",
     "traceback": [
      "\u001b[0;31m---------------------------------------------------------------------------\u001b[0m",
      "\u001b[0;31mNameError\u001b[0m                                 Traceback (most recent call last)",
      "\u001b[0;32m<ipython-input-105-567308c19aeb>\u001b[0m in \u001b[0;36m<module>\u001b[0;34m\u001b[0m\n\u001b[1;32m     10\u001b[0m \u001b[0mmapc\u001b[0m\u001b[0;34m.\u001b[0m\u001b[0mmapC\u001b[0m\u001b[0;34m(\u001b[0m\u001b[0mmat2\u001b[0m\u001b[0;34m=\u001b[0m\u001b[0mcmat2\u001b[0m\u001b[0;34m.\u001b[0m\u001b[0mcmat\u001b[0m\u001b[0;34m,\u001b[0m \u001b[0mcmap\u001b[0m\u001b[0;34m=\u001b[0m\u001b[0mcmap4\u001b[0m\u001b[0;34m,\u001b[0m \u001b[0mlabel\u001b[0m\u001b[0;34m=\u001b[0m\u001b[0;34m'BxPC3'\u001b[0m\u001b[0;34m,\u001b[0m \u001b[0max\u001b[0m\u001b[0;34m=\u001b[0m\u001b[0maxs\u001b[0m\u001b[0;34m[\u001b[0m\u001b[0;36m1\u001b[0m\u001b[0;34m]\u001b[0m\u001b[0;34m,\u001b[0m \u001b[0mmapType\u001b[0m\u001b[0;34m=\u001b[0m\u001b[0;34m'triangle'\u001b[0m\u001b[0;34m,\u001b[0m \u001b[0mtrans_XY\u001b[0m\u001b[0;34m=\u001b[0m\u001b[0;32mFalse\u001b[0m\u001b[0;34m,\u001b[0m \u001b[0mmaxrange\u001b[0m\u001b[0;34m=\u001b[0m\u001b[0;36m300\u001b[0m\u001b[0;34m,\u001b[0m \u001b[0mminrange\u001b[0m\u001b[0;34m=\u001b[0m\u001b[0;36m1\u001b[0m\u001b[0;34m,\u001b[0m \u001b[0mlogdata\u001b[0m\u001b[0;34m=\u001b[0m\u001b[0;32mFalse\u001b[0m\u001b[0;34m)\u001b[0m\u001b[0;34m\u001b[0m\u001b[0;34m\u001b[0m\u001b[0m\n\u001b[1;32m     11\u001b[0m \u001b[0;34m\u001b[0m\u001b[0m\n\u001b[0;32m---> 12\u001b[0;31m \u001b[0madd_line\u001b[0m\u001b[0;34m(\u001b[0m\u001b[0maxs\u001b[0m\u001b[0;34m[\u001b[0m\u001b[0;36m0\u001b[0m\u001b[0;34m]\u001b[0m\u001b[0;34m,\u001b[0m \u001b[0mcmat\u001b[0m\u001b[0;34m.\u001b[0m\u001b[0mrow_regions\u001b[0m\u001b[0;34m,\u001b[0m \u001b[0mmap_order\u001b[0m\u001b[0;34m=\u001b[0m\u001b[0;36m0\u001b[0m\u001b[0;34m,\u001b[0m \u001b[0mmapType\u001b[0m\u001b[0;34m=\u001b[0m\u001b[0;34m'triangle'\u001b[0m\u001b[0;34m,\u001b[0m \u001b[0mtrans_XY\u001b[0m\u001b[0;34m=\u001b[0m\u001b[0;32mFalse\u001b[0m\u001b[0;34m)\u001b[0m\u001b[0;34m\u001b[0m\u001b[0;34m\u001b[0m\u001b[0m\n\u001b[0m\u001b[1;32m     13\u001b[0m \u001b[0madd_line\u001b[0m\u001b[0;34m(\u001b[0m\u001b[0maxs\u001b[0m\u001b[0;34m[\u001b[0m\u001b[0;36m1\u001b[0m\u001b[0;34m]\u001b[0m\u001b[0;34m,\u001b[0m \u001b[0mcmat2\u001b[0m\u001b[0;34m.\u001b[0m\u001b[0mrow_regions\u001b[0m\u001b[0;34m,\u001b[0m \u001b[0mmap_order\u001b[0m\u001b[0;34m=\u001b[0m\u001b[0;36m1\u001b[0m\u001b[0;34m,\u001b[0m \u001b[0mmapType\u001b[0m\u001b[0;34m=\u001b[0m\u001b[0;34m'triangle'\u001b[0m\u001b[0;34m,\u001b[0m \u001b[0mtrans_XY\u001b[0m\u001b[0;34m=\u001b[0m\u001b[0;32mFalse\u001b[0m\u001b[0;34m)\u001b[0m\u001b[0;34m\u001b[0m\u001b[0;34m\u001b[0m\u001b[0m\n",
      "\u001b[0;31mNameError\u001b[0m: name 'add_line' is not defined"
     ]
    },
    {
     "data": {
      "image/png": "[encoded data removed]",
      "text/plain": [
       "<Figure size 432x432 with 2 Axes>"
      ]
     },
     "metadata": {},
     "output_type": "display_data"
    }
   ],
   "source": [
    "from trackc import mapc\n",
    "\n",
    "\n",
    "cmat=mapc._getRegionsCmat.extractContactRegions(clr=HPDE6C7_chr11, row_regions=[\"11:11640000-11930000\", \"11:12210000-12620000\"])\n",
    "cmat2=mapc._getRegionsCmat.extractContactRegions(clr=BxPC3_chr11, row_regions=[\"11:11640000-11930000\", \"11:12210000-12620000\"])\n",
    "\n",
    "fig, axs = plt.subplots(2, 1, figsize=(6,6))\n",
    "\n",
    "mapc.mapC(mat=cmat.cmat, cmap=fruitpunch, label='HPDE6C7', ax=axs[0], mapType='triangle', trans_XY=False, maxrange=100, logdata=False)\n",
    "mapc.mapC(mat2=cmat2.cmat, cmap=cmap4, label='BxPC3', ax=axs[1], mapType='triangle', trans_XY=False, maxrange=300, minrange=1, logdata=False)\n",
    "\n",
    "add_line(axs[0], cmat.row_regions, map_order=0, mapType='triangle', trans_XY=False)\n",
    "add_line(axs[1], cmat2.row_regions, map_order=1, mapType='triangle', trans_XY=False)\n"
   ]
  },
  {
   "cell_type": "code",
   "execution_count": 96,
   "metadata": {},
   "outputs": [
    {
     "name": "stdout",
     "output_type": "stream",
     "text": [
      "no max min range\n",
      "maxrange: 201.96000000000004 minrange: 1.0\n",
      "no max min range\n",
      "maxrange: 238.6799999999999 minrange: 1.0\n"
     ]
    },
    {
     "data": {
      "image/png": "[encoded data removed]",
      "text/plain": [
       "<Figure size 720x144 with 2 Axes>"
      ]
     },
     "metadata": {
      "needs_background": "light"
     },
     "output_type": "display_data"
    }
   ],
   "source": [
    "from imp import reload\n",
    "import sys\n",
    "sys.path.append('/Users/yuanzan/Documents/github/seqyuan/trackc/src/')\n",
    "from trackc import Virtual4C\n",
    "reload(Virtual4C)\n",
    "\n",
    "fig, ax = plt.subplots(2, 1, figsize=(10, 2) )\n",
    "Virtual4C.virtual4C(clr=BxPC3_chr11,\n",
    "              balance = False,\n",
    "              target = \"11:11800000-11800001\",\n",
    "              contact_regions= [\"11:11640000-11930000\", \"11:12210000-12620000\"], \n",
    "              ax=ax[0],\n",
    "              track_type = 'line',\n",
    "              color = 'tab:blue',\n",
    "              logdata = False, \n",
    "              minrange = None,\n",
    "              maxrange = None,\n",
    "              ylabel = 'aaaa',\n",
    "              label_rotation = 0,\n",
    "              label_fontsize = 12,\n",
    "              )\n",
    "\n",
    "Virtual4C.virtual4C(clr=HPDE6C7_chr11,\n",
    "              balance = False,\n",
    "              target = \"11:11800000-11800001\",\n",
    "              contact_regions= [\"11:11640000-11930000\", \"11:12210000-12620000\"], \n",
    "              ax=ax[1],\n",
    "              track_type = 'bar',\n",
    "              color = 'tab:red',\n",
    "              logdata = False, \n",
    "              minrange = None,\n",
    "              maxrange = None,\n",
    "              ylabel = 'bbb',\n",
    "              label_rotation = 0,\n",
    "              label_fontsize = 12,\n",
    "              )\n",
    "\n"
   ]
  },
  {
   "cell_type": "code",
   "execution_count": 143,
   "metadata": {},
   "outputs": [
    {
     "data": {
      "text/plain": [
       "<bound method Cooler.bins of <Cooler \"HPDE6C7.chr11.mcool::/resolutions/10000\">>"
      ]
     },
     "execution_count": 143,
     "metadata": {},
     "output_type": "execute_result"
    }
   ],
   "source": [
    "HPDE6C7_chr11.bins"
   ]
  },
  {
   "cell_type": "code",
   "execution_count": null,
   "metadata": {},
   "outputs": [],
   "source": []
  },
  {
   "cell_type": "code",
   "execution_count": null,
   "metadata": {},
   "outputs": [],
   "source": []
  },
  {
   "cell_type": "code",
   "execution_count": 94,
   "metadata": {},
   "outputs": [
    {
     "data": {
      "text/plain": [
       "(0.0, 3.0)"
      ]
     },
     "execution_count": 94,
     "metadata": {},
     "output_type": "execute_result"
    },
    {
     "data": {
      "image/png": "[encoded data removed]",
      "text/plain": [
       "<Figure size 720x144 with 1 Axes>"
      ]
     },
     "metadata": {
      "needs_background": "light"
     },
     "output_type": "display_data"
    }
   ],
   "source": [
    "\n",
    "fig, ax = plt.subplots(1, 1, figsize=(10, 2) )\n",
    "a = 4\n",
    "ax.plot(range(4))\n",
    "ax.set_xlim(0,a-1)\n"
   ]
  },
  {
   "cell_type": "code",
   "execution_count": 135,
   "metadata": {},
   "outputs": [
    {
     "name": "stdout",
     "output_type": "stream",
     "text": [
      "no max min range\n",
      "maxrange: 201.96000000000004 minrange: 1.0\n"
     ]
    },
    {
     "data": {
      "image/png": "[encoded data removed]",
      "text/plain": [
       "<Figure size 720x144 with 2 Axes>"
      ]
     },
     "metadata": {
      "needs_background": "light"
     },
     "output_type": "display_data"
    }
   ],
   "source": [
    "from imp import reload\n",
    "import sys\n",
    "sys.path.append('/Users/yuanzan/Documents/github/seqyuan/trackc/src/')\n",
    "from trackc import Virtual4C\n",
    "reload(Virtual4C)\n",
    "\n",
    "fig, ax = plt.subplots(2, 1, figsize=(10, 2) )\n",
    "Virtual4C.virtual4C(clr=BxPC3_chr11,\n",
    "              balance = False,\n",
    "              target = \"11:11800000-11800001\",\n",
    "              contact_regions= [\"11:11640000-11930000\", \"11:12210000-12620000\"], \n",
    "              ax=ax[0],\n",
    "              track_type = 'heatmap',\n",
    "              color = 'tab:blue',\n",
    "              logdata = False, \n",
    "              minrange = None,\n",
    "              maxrange = None,\n",
    "              ylabel = 'aaaa',\n",
    "              label_rotation = 0,\n",
    "              label_fontsize = 12,\n",
    "              )\n"
   ]
  },
  {
   "cell_type": "code",
   "execution_count": 154,
   "metadata": {},
   "outputs": [
    {
     "data": {
      "text/plain": [
       "<Figure size 720x216 with 0 Axes>"
      ]
     },
     "metadata": {},
     "output_type": "display_data"
    }
   ],
   "source": [
    "figure = plt.figure(figsize=(10,3))\n",
    "spec = figure.add_gridspec(nrows=3, ncols=1, \n",
    "                               left=None, bottom=None, right=None, top=None, \n",
    "                               wspace=0, hspace=1, width_ratios=None, height_ratios=[1,3,6])\n",
    "\n",
    "ax = fig.add_subplot(spec[0])"
   ]
  },
  {
   "cell_type": "code",
   "execution_count": 208,
   "metadata": {},
   "outputs": [
    {
     "name": "stdout",
     "output_type": "stream",
     "text": [
      "no max min range\n",
      "maxrange: 201.96000000000004 minrange: 1.0\n",
      "no max min range\n",
      "maxrange: 201.96000000000004 minrange: 1.0\n",
      "no max min range\n",
      "maxrange: 238.6799999999999 minrange: 1.0\n"
     ]
    },
    {
     "data": {
      "image/png": "[encoded data removed]",
      "text/plain": [
       "<Figure size 720x216 with 3 Axes>"
      ]
     },
     "metadata": {
      "needs_background": "light"
     },
     "output_type": "display_data"
    }
   ],
   "source": [
    "from imp import reload\n",
    "import sys\n",
    "sys.path.append('/Users/yuanzan/Documents/github/seqyuan/trackc/src/')\n",
    "from trackc import Virtual4C\n",
    "reload(Virtual4C)\n",
    "\n",
    "#import matplotlib.pyplot as plt\n",
    "#from matplotlib.gridspec import GridSpec\n",
    "fig = plt.figure(figsize=(10,3))\n",
    "spec = figure.add_gridspec(nrows=3, ncols=1,\n",
    "                           left=None, bottom=None, right=None, top=None,\n",
    "                           wspace=0, hspace=0, \n",
    "                           width_ratios=None, height_ratios=[1,3,5])\n",
    "\n",
    "ax0 = fig.add_subplot(spec[0])\n",
    "ax1 = fig.add_subplot(spec[1])\n",
    "ax2 = fig.add_subplot(spec[2])\n",
    "\n",
    "\n",
    "Virtual4C.virtual4C(clr=BxPC3_chr11,\n",
    "              balance = False,\n",
    "              target = \"11:11800000-11800001\",\n",
    "              contact_regions= [\"11:11640000-11930000\", \"11:12210000-12620000\"], \n",
    "              ax=ax0,\n",
    "              track_type = 'heatmap',\n",
    "              color = 'tab:blue',\n",
    "              logdata = False, \n",
    "              minrange = None,\n",
    "              maxrange = None,\n",
    "              label = 'aaaa',\n",
    "              label_rotation = 0,\n",
    "              label_fontsize = 12,\n",
    "              )\n",
    "\n",
    "Virtual4C.virtual4C(clr=BxPC3_chr11,\n",
    "              balance = False,\n",
    "              target = \"11:11800000-11800001\",\n",
    "              contact_regions= [\"11:11640000-11930000\", \"11:12210000-12620000\"], \n",
    "              ax=ax1,\n",
    "              track_type = 'line',\n",
    "              color = 'tab:blue',\n",
    "              target_name='target',\n",
    "              target_color='y',\n",
    "              logdata = False, \n",
    "              minrange = None,\n",
    "              maxrange = None,\n",
    "              label = 'aaaa',\n",
    "              label_rotation = 0,\n",
    "              label_fontsize = 12,\n",
    "              )\n",
    "\n",
    "Virtual4C.virtual4C(clr=HPDE6C7_chr11,\n",
    "              balance = False,\n",
    "              target = \"11:11800000-11800001\",\n",
    "              contact_regions= [\"11:11640000-11930000\", \"11:12210000-12620000\"], \n",
    "              ax=ax2,\n",
    "              track_type = 'bar',\n",
    "              color = 'tab:red',\n",
    "              target_name='target2',\n",
    "              target_color='b',\n",
    "              logdata = False, \n",
    "              minrange = None,\n",
    "              maxrange = None,\n",
    "              label = 'bbb',\n",
    "              label_rotation = 0,\n",
    "              label_fontsize = 12,\n",
    "              )\n"
   ]
  },
  {
   "cell_type": "code",
   "execution_count": 158,
   "metadata": {},
   "outputs": [
    {
     "data": {
      "text/plain": [
       "10000"
      ]
     },
     "execution_count": 158,
     "metadata": {},
     "output_type": "execute_result"
    }
   ],
   "source": [
    "BxPC3_chr11.binsize"
   ]
  },
  {
   "cell_type": "code",
   "execution_count": 180,
   "metadata": {},
   "outputs": [
    {
     "data": {
      "text/plain": [
       "15"
      ]
     },
     "execution_count": 180,
     "metadata": {},
     "output_type": "execute_result"
    }
   ],
   "source": [
    "int(152/10)"
   ]
  },
  {
   "cell_type": "code",
   "execution_count": 181,
   "metadata": {},
   "outputs": [
    {
     "data": {
      "text/plain": [
       "10"
      ]
     },
     "execution_count": 181,
     "metadata": {},
     "output_type": "execute_result"
    }
   ],
   "source": [
    "int(101/10)"
   ]
  },
  {
   "cell_type": "code",
   "execution_count": 183,
   "metadata": {},
   "outputs": [
    {
     "data": {
      "text/plain": [
       "[10, 11, 12, 13, 14, 15]"
      ]
     },
     "execution_count": 183,
     "metadata": {},
     "output_type": "execute_result"
    }
   ],
   "source": [
    "list(range(10,16))"
   ]
  },
  {
   "cell_type": "code",
   "execution_count": 176,
   "metadata": {},
   "outputs": [
    {
     "data": {
      "text/plain": [
       "[13, 12, 11, 10, 9, 8, 7, 6, 5, 4]"
      ]
     },
     "execution_count": 176,
     "metadata": {},
     "output_type": "execute_result"
    }
   ],
   "source": [
    "list(range(1, 14))[::-1]"
   ]
  },
  {
   "cell_type": "code",
   "execution_count": 175,
   "metadata": {},
   "outputs": [
    {
     "data": {
      "text/plain": [
       "[]"
      ]
     },
     "execution_count": 175,
     "metadata": {},
     "output_type": "execute_result"
    }
   ],
   "source": [
    "list(range(14, 10))"
   ]
  },
  {
   "cell_type": "code",
   "execution_count": 187,
   "metadata": {},
   "outputs": [
    {
     "data": {
      "text/plain": [
       "[11, 12, 13, 14, 15, 16]"
      ]
     },
     "execution_count": 187,
     "metadata": {},
     "output_type": "execute_result"
    }
   ],
   "source": [
    "list(range(11,17))"
   ]
  },
  {
   "cell_type": "code",
   "execution_count": null,
   "metadata": {},
   "outputs": [],
   "source": []
  }
 ],
 "metadata": {
  "kernelspec": {
   "display_name": "Python 3",
   "language": "python",
   "name": "python3"
  },
  "language_info": {
   "codemirror_mode": {
    "name": "ipython",
    "version": 3
   },
   "file_extension": ".py",
   "mimetype": "text/x-python",
   "name": "python",
   "nbconvert_exporter": "python",
   "pygments_lexer": "ipython3",
   "version": "3.8.5"
  }
 },
 "nbformat": 4,
 "nbformat_minor": 4
}
