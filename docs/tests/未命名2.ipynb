{
 "cells": [
  {
   "cell_type": "code",
   "execution_count": 1,
   "metadata": {},
   "outputs": [
    {
     "name": "stderr",
     "output_type": "stream",
     "text": [
      "/Users/yuanzan/anaconda3/lib/python3.8/site-packages/pandas/core/computation/expressions.py:20: UserWarning: Pandas requires version '2.7.3' or newer of 'numexpr' (version '2.7.1' currently installed).\n",
      "  from pandas.core.computation.check import NUMEXPR_INSTALLED\n"
     ]
    },
    {
     "data": {
      "text/plain": [
       "<module 'trackc' from '/Users/yuanzan/Documents/github/seqyuan/trackc/src/trackc/__init__.py'>"
      ]
     },
     "execution_count": 1,
     "metadata": {},
     "output_type": "execute_result"
    }
   ],
   "source": [
    "from imp import reload\n",
    "import sys\n",
    "sys.path.append('/Users/yuanzan/Documents/github/seqyuan/trackc/src/')\n",
    "import trackc\n",
    "reload(trackc)"
   ]
  },
  {
   "cell_type": "code",
   "execution_count": 2,
   "metadata": {},
   "outputs": [
    {
     "name": "stdout",
     "output_type": "stream",
     "text": [
      "Help on module trackc.gs in trackc:\n",
      "\n",
      "NAME\n",
      "    trackc.gs\n",
      "\n",
      "CLASSES\n",
      "    builtins.object\n",
      "        lego\n",
      "    \n",
      "    class lego(builtins.object)\n",
      "     |  lego(width=6, height=1)\n",
      "     |  \n",
      "     |  Methods defined here:\n",
      "     |  \n",
      "     |  __init__(self, width=6, height=1)\n",
      "     |      Initialize self.  See help(type(self)) for accurate signature.\n",
      "     |  \n",
      "     |  add(self, pos='top', height_ratio=1, hspace=0)\n",
      "     |  \n",
      "     |  remove(self, pos='top')\n",
      "     |  \n",
      "     |  show(self)\n",
      "     |  \n",
      "     |  ----------------------------------------------------------------------\n",
      "     |  Data descriptors defined here:\n",
      "     |  \n",
      "     |  __dict__\n",
      "     |      dictionary for instance variables (if defined)\n",
      "     |  \n",
      "     |  __weakref__\n",
      "     |      list of weak references to the object (if defined)\n",
      "     |  \n",
      "     |  ----------------------------------------------------------------------\n",
      "     |  Data and other attributes defined here:\n",
      "     |  \n",
      "     |  ax = None\n",
      "     |  \n",
      "     |  fig = None\n",
      "     |  \n",
      "     |  getdoc = functools.partial(<function getdoc at 0x7f9a40ef2f70>, <class...\n",
      "     |      partial(func, *args, **keywords) - new function with partial application\n",
      "     |      of the given arguments and keywords.\n",
      "     |  \n",
      "     |  lego_axs = []\n",
      "\n",
      "FUNCTIONS\n",
      "    make_spec(width: float = 10, height: float = 3, height_ratios: List[float] = [1], hspace: float = 0)\n",
      "    \n",
      "    savefig(outfile)\n",
      "\n",
      "DATA\n",
      "    List = typing.List\n",
      "\n",
      "FILE\n",
      "    /Users/yuanzan/Documents/github/seqyuan/trackc/src/trackc/gs.py\n",
      "\n",
      "\n"
     ]
    }
   ],
   "source": [
    "help(trackc.gs)"
   ]
  },
  {
   "cell_type": "code",
   "execution_count": 33,
   "metadata": {},
   "outputs": [
    {
     "data": {
      "image/png": "[encoded data removed]",
      "text/plain": [
       "<Figure size 432x72 with 1 Axes>"
      ]
     },
     "metadata": {
      "needs_background": "light"
     },
     "output_type": "display_data"
    }
   ],
   "source": [
    "aa = trackc.lego()\n",
    "aa.add(pos='top', height_ratio=1, hspace=0)\n",
    "aa.lego_axs[0].ax.plot([1,2,3])\n",
    "aa.show()"
   ]
  },
  {
   "cell_type": "code",
   "execution_count": 4,
   "metadata": {},
   "outputs": [
    {
     "name": "stderr",
     "output_type": "stream",
     "text": [
      "/Users/yuanzan/Documents/github/seqyuan/trackc/src/trackc/gs.py:58: UserWarning: Matplotlib is currently using module://ipykernel.pylab.backend_inline, which is a non-GUI backend, so cannot show the figure.\n",
      "  self.fig.show()\n"
     ]
    }
   ],
   "source": [
    "aa.show()"
   ]
  },
  {
   "cell_type": "code",
   "execution_count": 9,
   "metadata": {},
   "outputs": [],
   "source": [
    "aa.add(pos='top', height_ratio=1, hspace=0)"
   ]
  },
  {
   "cell_type": "code",
   "execution_count": 12,
   "metadata": {},
   "outputs": [],
   "source": [
    "import matplotlib.pyplot as plt\n",
    "aa.show()"
   ]
  },
  {
   "cell_type": "code",
   "execution_count": 16,
   "metadata": {},
   "outputs": [],
   "source": [
    "aa.lego_axs[0].ax.plot([1,2,3])\n",
    "plt.show()"
   ]
  },
  {
   "cell_type": "code",
   "execution_count": null,
   "metadata": {},
   "outputs": [],
   "source": []
  },
  {
   "cell_type": "code",
   "execution_count": null,
   "metadata": {},
   "outputs": [],
   "source": []
  }
 ],
 "metadata": {
  "kernelspec": {
   "display_name": "Python 3",
   "language": "python",
   "name": "python3"
  },
  "language_info": {
   "codemirror_mode": {
    "name": "ipython",
    "version": 3
   },
   "file_extension": ".py",
   "mimetype": "text/x-python",
   "name": "python",
   "nbconvert_exporter": "python",
   "pygments_lexer": "ipython3",
   "version": "3.8.5"
  }
 },
 "nbformat": 4,
 "nbformat_minor": 4
}
