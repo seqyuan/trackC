{
 "cells": [
  {
   "attachments": {},
   "cell_type": "markdown",
   "metadata": {},
   "source": [
    "# gene\n",
    "here is some examples of trackc's gene track\n",
    "\n",
    "## convert GTF to BED12\n",
    "Download the GTF version of the genome corresponding to the multi-group data. And use the **gtf2bed4trackc** tool, which installed with trackc convert to bed12"
   ]
  },
  {
   "cell_type": "code",
   "execution_count": 4,
   "metadata": {},
   "outputs": [
    {
     "name": "stdout",
     "output_type": "stream",
     "text": [
      "--2023-05-27 13:24:18--  https://ftp.ensembl.org/pub/release-105/gtf/homo_sapiens/Homo_sapiens.GRCh38.105.chr.gtf.gz\n",
      "正在解析主机 ftp.ensembl.org (ftp.ensembl.org)... 193.62.193.139\n",
      "正在连接 ftp.ensembl.org (ftp.ensembl.org)|193.62.193.139|:443... 已连接。\n",
      "已发出 HTTP 请求，正在等待回应... 200 OK\n",
      "长度：50823019 (48M) [application/x-gzip]\n",
      "正在保存至: “Homo_sapiens.GRCh38.105.chr.gtf.gz”\n",
      "\n",
      "Homo_sapiens.GRCh38 100%[===================>]  48.47M   235KB/s  用时 5m 45s    \n",
      "\n",
      "2023-05-27 13:30:04 (144 KB/s) - 已保存 “Homo_sapiens.GRCh38.105.chr.gtf.gz” [50823019/50823019])\n",
      "\n",
      "gtf2bed finished\n"
     ]
    }
   ],
   "source": [
    "!wget https://ftp.ensembl.org/pub/release-105/gtf/homo_sapiens/Homo_sapiens.GRCh38.105.chr.gtf.gz\n",
    "!gunzip Homo_sapiens.GRCh38.105.chr.gtf.gz\n",
    "!gtf2bed4trackc -g Homo_sapiens.GRCh38.105.chr.gtf -o Homo_sapiens.GRCh38.105.chr.bed13 --biotype2bed13"
   ]
  },
  {
   "cell_type": "code",
   "execution_count": 5,
   "metadata": {},
   "outputs": [],
   "source": [
    "import sys\n",
    "sys.path.append('/Users/yuanzan/Documents/github/seqyuan/trackc/src')\n",
    "import trackc as tc"
   ]
  },
  {
   "cell_type": "code",
   "execution_count": 6,
   "metadata": {},
   "outputs": [
    {
     "data": {
      "text/plain": [
       "array(['protein_coding', 'lncRNA', 'unprocessed_pseudogene',\n",
       "       'processed_pseudogene', 'transcribed_processed_pseudogene',\n",
       "       'transcribed_unitary_pseudogene',\n",
       "       'transcribed_unprocessed_pseudogene', 'TEC', 'unitary_pseudogene',\n",
       "       'snRNA', 'miRNA', 'misc_RNA', 'snoRNA', 'scaRNA',\n",
       "       'rRNA_pseudogene', 'pseudogene', 'rRNA', 'polymorphic_pseudogene',\n",
       "       'IG_V_pseudogene', 'scRNA', 'IG_V_gene', 'IG_C_gene', 'IG_J_gene',\n",
       "       'sRNA', 'ribozyme', 'translated_processed_pseudogene', 'vault_RNA',\n",
       "       'TR_V_gene', 'TR_C_gene', 'TR_J_gene', 'TR_V_pseudogene',\n",
       "       'TR_D_gene', 'translated_unprocessed_pseudogene',\n",
       "       'IG_C_pseudogene', 'TR_J_pseudogene', 'IG_J_pseudogene',\n",
       "       'IG_D_gene', 'IG_pseudogene', 'Mt_tRNA', 'Mt_rRNA'], dtype=object)"
      ]
     },
     "metadata": {},
     "output_type": "display_data"
    }
   ],
   "source": [
    "import pandas as pd\n",
    "gene_bed12_file = './Homo_sapiens.GRCh38.105.chr.bed13'\n",
    "gene_bed12 = pd.read_table(gene_bed12_file, header=None)\n",
    "display(gene_bed12[12].unique())\n",
    "# only show the protein_coding type gene\n",
    "gene_bed12 = gene_bed12[gene_bed12[12]==\"protein_coding\"]"
   ]
  },
  {
   "attachments": {},
   "cell_type": "markdown",
   "metadata": {},
   "source": [
    "## trackc.pl.scale_track\n",
    "Trackc supports **trackc.pl.scale_track** methods for gene track visualization\n",
    "\n",
    "### show_label \n",
    "Default value is True, means show all the gene names of the regions\n",
    "\n",
    "* False, do not show all the gene names of the regions\n",
    "* one single gene string, example \"KMT2C\", means only show `KMT2C` gene name, if the gene position is in the regions\n",
    "* gene list, example [\"KMT2C\", \"ACTR3B\"], means show gene names in the given gene list"
   ]
  },
  {
   "cell_type": "code",
   "execution_count": 7,
   "metadata": {},
   "outputs": [
    {
     "data": {
      "image/png": "[encoded data removed]",
      "text/plain": [
       "<Figure size 576x108 with 1 Axes>"
      ]
     },
     "metadata": {
      "needs_background": "light"
     },
     "output_type": "display_data"
    }
   ],
   "source": [
    "import trackc as tc\n",
    "\n",
    "regions = ['7:153000000-151000000', '11:118500000-116500000']\n",
    "\n",
    "ten = tc.tenon(width=8, height=1.5)\n",
    "ten.add(pos='bottom', height=1)\n",
    "ten.add(pos='bottom', height=0.4, hspace=0.1)\n",
    "ten.add(pos='bottom', height=0.6, hspace=0.1)\n",
    "\n",
    "tc.pl.gene_track(ax=ten.axs(0), bed12=gene_bed12, regions=regions, line=4, show_label=['KMT2C'], ax_on=True, gene_fontszie=12)\n",
    "tc.pl.multi_scale_track(ten.axs(1), regions=regions, scale_adjust='Mb', intervals=1, tick_rotation=0, tick_fontsize=10)\n",
    "tc.pl.multi_scale_track(ten.axs(2), regions=regions, scale_adjust='Mb', intervals=2, tick_rotation=0)\n",
    "\n",
    "#tc.savefig('gene_track.pdf')"
   ]
  },
  {
   "cell_type": "code",
   "execution_count": 16,
   "metadata": {},
   "outputs": [
    {
     "data": {
      "image/png": "[encoded data removed]",
      "text/plain": [
       "<Figure size 576x72 with 1 Axes>"
      ]
     },
     "metadata": {
      "needs_background": "light"
     },
     "output_type": "display_data"
    }
   ],
   "source": [
    "\n",
    "ten = tc.tenon(width=8, height=1)\n",
    "ten.add(pos='bottom', height=1)\n",
    "\n",
    "tc.pl.gene_track(ax=ten.axs(0), bed12=gene_bed12, regions='7:153000000-152000000', line=3, gene_fontszie=10)\n",
    "tc.pl.scale_track(ax=ten.axs(0), region='7:153000000-152000000', scale_adjust='Mb', tick_pos='bottom', ratio2ax=0.6)\n"
   ]
  }
 ],
 "metadata": {
  "kernelspec": {
   "display_name": "Python 3",
   "language": "python",
   "name": "python3"
  },
  "language_info": {
   "codemirror_mode": {
    "name": "ipython",
    "version": 3
   },
   "file_extension": ".py",
   "mimetype": "text/x-python",
   "name": "python",
   "nbconvert_exporter": "python",
   "pygments_lexer": "ipython3",
   "version": "3.8.5"
  }
 },
 "nbformat": 4,
 "nbformat_minor": 4
}
