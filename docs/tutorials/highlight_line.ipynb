{
 "cells": [
  {
   "cell_type": "markdown",
   "metadata": {},
   "source": [
    "# highlight line"
   ]
  },
  {
   "cell_type": "code",
   "execution_count": 4,
   "metadata": {},
   "outputs": [],
   "source": [
    "import trackc as tc\n",
    "import pandas as pd\n",
    "import pyBigWig"
   ]
  },
  {
   "cell_type": "code",
   "execution_count": 5,
   "metadata": {},
   "outputs": [],
   "source": [
    "gene_bed12 = pd.read_table('./Homo_sapiens.GRCh38.105.chr.bed13', header=None)\n",
    "gene_bed12 = gene_bed12[gene_bed12[12]==\"protein_coding\"]\n",
    "gene_bed12[0] = 'chr' + gene_bed12[0]\n",
    "\n",
    "AML_1360_H3K27ac = pyBigWig.open('GSM4604189_H3K27ac.bw')\n"
   ]
  },
  {
   "cell_type": "code",
   "execution_count": 20,
   "metadata": {},
   "outputs": [
    {
     "name": "stdout",
     "output_type": "stream",
     "text": [
      "maxrange: 10 minrange: 1.0\n"
     ]
    },
    {
     "data": {
      "image/png": "[encoded data removed]",
      "text/plain": [
       "<Figure size 432x54 with 1 Axes>"
      ]
     },
     "metadata": {
      "needs_background": "light"
     },
     "output_type": "display_data"
    }
   ],
   "source": [
    "ten = tc.tenon(figsize=(6, 0.75))\n",
    "ten.add(pos='bottom', height=0.5, hspace=0.1)\n",
    "ten.add(pos='bottom', height=0.7, hspace=0.1)\n",
    "ten.add(pos='bottom', height=0.6, hspace=0.1)\n",
    "\n",
    "regions = ['chr8:127000000-129200000', 'chr14:96500000-99300000']\n",
    "MYC_TSS = 'chr8:127735434-127735435'\n",
    "\n",
    "tc.pl.gene_track(ax=ten.axs(0), bed12=gene_bed12, regions=regions, line=3, gene_fontszie=10, show_label=['MYC'])\n",
    "tc.pl.bw_track(AML_1360_H3K27ac, ten.axs(1), regions=regions, maxrange=10, label='H3K27ac', binsize=10000, invert_y=False)\n",
    "\n",
    "tc.pl.virtual4C(ax=ten.axs(2), clr=AML_1360, target=MYC_TSS, contact_regions=regions, maxrange=10,\n",
    "                target_color='tab:red', track_type='line', label='Virtual 4C')\n",
    "\n",
    "tc.pl.multi_scale_track(ten.axs(2), regions=regions, scale_adjust='Mb', intervals=1, tick_rotation=0, tick_fontsize=10)\n",
    "\n",
    "light_regions=['chr8:127735434-127900000', 'chr14:96700000-96800000']\n",
    "tc.pl.vhighlight(axs=[ten.axs(0), ten.axs(1)], \n",
    "                 colors=['y', 'b'], alpha=0.3,\n",
    "                 regions=regions, light_regions=light_regions)\n",
    "\n",
    "#tc.savefig('trackc_vhighlight.pdf')"
   ]
  }
 ],
 "metadata": {
  "kernelspec": {
   "display_name": "Python 3",
   "language": "python",
   "name": "python3"
  },
  "language_info": {
   "codemirror_mode": {
    "name": "ipython",
    "version": 3
   },
   "file_extension": ".py",
   "mimetype": "text/x-python",
   "name": "python",
   "nbconvert_exporter": "python",
   "pygments_lexer": "ipython3",
   "version": "3.8.5"
  }
 },
 "nbformat": 4,
 "nbformat_minor": 4
}
