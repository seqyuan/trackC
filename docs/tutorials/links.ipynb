{
 "cells": [
  {
   "cell_type": "markdown",
   "metadata": {},
   "source": [
    "# links\n",
    "Show interaction loop"
   ]
  },
  {
   "cell_type": "markdown",
   "metadata": {},
   "source": [
    "## Download test data\n",
    "Test loop is from ENCODE https://www.encodeproject.org/experiments/ENCSR968KAY/\n",
    "\n",
    "* Homo sapiens GM12878\n",
    "* GRCh38\n",
    "* Accession: ENCFF041XLP"
   ]
  },
  {
   "cell_type": "code",
   "execution_count": null,
   "metadata": {},
   "outputs": [],
   "source": [
    "!gunzip ENCFF041XLP.bedpe.gz"
   ]
  },
  {
   "cell_type": "code",
   "execution_count": 1,
   "metadata": {},
   "outputs": [],
   "source": [
    "import sys\n",
    "sys.path.append('/Users/yuanzan/Documents/github/seqyuan/trackc/src')"
   ]
  },
  {
   "cell_type": "code",
   "execution_count": 2,
   "metadata": {},
   "outputs": [],
   "source": [
    "import pandas as pd\n",
    "import trackc as tc"
   ]
  },
  {
   "cell_type": "code",
   "execution_count": 3,
   "metadata": {},
   "outputs": [
    {
     "data": {
      "text/html": [
       "<div>\n",
       "<style scoped>\n",
       "    .dataframe tbody tr th:only-of-type {\n",
       "        vertical-align: middle;\n",
       "    }\n",
       "\n",
       "    .dataframe tbody tr th {\n",
       "        vertical-align: top;\n",
       "    }\n",
       "\n",
       "    .dataframe thead th {\n",
       "        text-align: right;\n",
       "    }\n",
       "</style>\n",
       "<table border=\"1\" class=\"dataframe\">\n",
       "  <thead>\n",
       "    <tr style=\"text-align: right;\">\n",
       "      <th></th>\n",
       "      <th>0</th>\n",
       "      <th>1</th>\n",
       "      <th>2</th>\n",
       "      <th>3</th>\n",
       "      <th>4</th>\n",
       "      <th>5</th>\n",
       "    </tr>\n",
       "  </thead>\n",
       "  <tbody>\n",
       "    <tr>\n",
       "      <th>0</th>\n",
       "      <td>chr10</td>\n",
       "      <td>62550000</td>\n",
       "      <td>62575000</td>\n",
       "      <td>chr10</td>\n",
       "      <td>63075000</td>\n",
       "      <td>63100000</td>\n",
       "    </tr>\n",
       "    <tr>\n",
       "      <th>1</th>\n",
       "      <td>chr10</td>\n",
       "      <td>38085000</td>\n",
       "      <td>38090000</td>\n",
       "      <td>chr10</td>\n",
       "      <td>42560000</td>\n",
       "      <td>42565000</td>\n",
       "    </tr>\n",
       "  </tbody>\n",
       "</table>\n",
       "</div>"
      ],
      "text/plain": [
       "       0         1         2      3         4         5\n",
       "0  chr10  62550000  62575000  chr10  63075000  63100000\n",
       "1  chr10  38085000  38090000  chr10  42560000  42565000"
      ]
     },
     "execution_count": 3,
     "metadata": {},
     "output_type": "execute_result"
    }
   ],
   "source": [
    "loops = pd.read_table('ENCFF041XLP.bedpe', header=None, skiprows=2)\n",
    "loops = loops[[0,1,2,3,4,5]]\n",
    "loops.head(2)"
   ]
  },
  {
   "cell_type": "code",
   "execution_count": 12,
   "metadata": {},
   "outputs": [
    {
     "data": {
      "image/png": "[encoded data removed]",
      "text/plain": [
       "<Figure size 576x72 with 1 Axes>"
      ]
     },
     "metadata": {
      "needs_background": "light"
     },
     "output_type": "display_data"
    }
   ],
   "source": [
    "regions = ['chr7:153000000-151000000', 'chr11:118500000-116500000']\n",
    "\n",
    "ten = tc.tenon(width=8, height=1)\n",
    "ten.add(pos='bottom', height=1)\n",
    "ten.add(pos='bottom', height=1, hspace=0.1)\n",
    "ten.add(pos='bottom', height=0.4, hspace=0.1)\n",
    "\n",
    "tc.pl.links_track(ax=ten.axs(0), data=loops, label='GM12878', regions=regions, \n",
    "               color=['#66AC84', 'tab:purple'], maxrange=3000000, anchor='inside')\n",
    "tc.pl.links_track(ax=ten.axs(1), data=loops, label='GM12878', regions=regions, \n",
    "               color='tab:purple', invert_y=True, anchor='outside', ax_on=True)\n",
    "tc.pl.multi_scale_track(ten.axs(2), regions=regions, scale_adjust='Mb', intervals=1, tick_rotation=0, tick_fontsize=10, colors=['#66AC84', 'tab:purple'])\n"
   ]
  }
 ],
 "metadata": {
  "kernelspec": {
   "display_name": "Python 3",
   "language": "python",
   "name": "python3"
  },
  "language_info": {
   "codemirror_mode": {
    "name": "ipython",
    "version": 3
   },
   "file_extension": ".py",
   "mimetype": "text/x-python",
   "name": "python",
   "nbconvert_exporter": "python",
   "pygments_lexer": "ipython3",
   "version": "3.8.5"
  }
 },
 "nbformat": 4,
 "nbformat_minor": 4
}
