{
 "cells": [
  {
   "cell_type": "markdown",
   "metadata": {},
   "source": [
    "# bed\n",
    "\n",
    "\n",
    "## test data\n",
    "bed test data can get from https://github.com/seqyuan/trackc_data\n",
    "* chr12_20-35Mb.tad.bed3\n",
    "* chr12_20-35Mb.insulation.bed5\n",
    "* chr12_20_35Mb.cool"
   ]
  },
  {
   "cell_type": "code",
   "execution_count": 1,
   "metadata": {},
   "outputs": [],
   "source": [
    "import sys\n",
    "sys.path.append('/Users/yuanzan/Documents/github/seqyuan/trackc/src')"
   ]
  },
  {
   "cell_type": "code",
   "execution_count": null,
   "metadata": {},
   "outputs": [],
   "source": []
  },
  {
   "cell_type": "code",
   "execution_count": null,
   "metadata": {},
   "outputs": [],
   "source": [
    "ten = tc.tenon(width=6, height=1)\n",
    "ten.add(pos='bottom', height=3.3)\n",
    "ten.add(pos='bottom', height=1, hspace=0.1)\n",
    "ten.add(pos='bottom', height=1, hspace=0.1)\n",
    "\n",
    "tc.pl.bed_track(ax=ten.axs(1)\n",
    "                insulation_bed5,\n",
    "              ax1,\n",
    "              regions=['chr12:31000000-34000000'],\n",
    "              track_style='line',\n",
    "              color = ['tab:red', 'tab:blue'],\n",
    "              cmap = None,\n",
    "              intervals = 1,\n",
    "              #show_names = False,\n",
    "              ymin=0.005,ymax=0.025,\n",
    "              alpha = 1,\n",
    "              tick_fl='%0.3f',\n",
    "              title= 'tyty',\n",
    "              title_fontszie = 12,\n",
    "              title_rotation = 45,\n",
    "              )\n",
    "\n",
    "bed.bed_track(tad_bed3,\n",
    "              ax2,\n",
    "              regions=['chr12:31000000-34000000'],\n",
    "              track_style='rec',\n",
    "              color = ['tab:red', 'tab:blue'],\n",
    "              cmap = None,\n",
    "              intervals = 2,\n",
    "              #show_names = False,\n",
    "              alpha = 0.6,\n",
    "              title= 'tyty',\n",
    "              title_fontszie = 12,\n",
    "              title_rotation = 45,\n",
    "              )\n",
    "\n",
    "bed.bed_track(tad_bed3,\n",
    "              ax3,\n",
    "              regions=['chr12:31000000-34000000'],\n",
    "              track_style='triangle',\n",
    "              color = ['tab:red', 'tab:blue'],\n",
    "              cmap = None,\n",
    "              intervals = 2,\n",
    "              alpha = 0.6,\n",
    "              title= 'tyty',\n",
    "              title_fontszie = 12,\n",
    "              title_rotation = 45,\n",
    "              score_label_size=8\n",
    "              )\n",
    "              \n",
    "\n",
    "bed.bed_track(tad_bed3,\n",
    "              ax3,\n",
    "              regions=['chr12:31000000-34000000'],\n",
    "              track_style='triangle',\n",
    "              color = ['tab:red', 'tab:blue'],\n",
    "              cmap = None,\n",
    "              intervals = 2,\n",
    "              alpha = 0.6,\n",
    "              title= 'tyty',\n",
    "              title_fontszie = 12,\n",
    "              title_rotation = 45,\n",
    "              score_label_size=8\n",
    "              )\n",
    " \n",
    "mapc.mapC(mat=chr12cmat.cmat, cmap=fruitpunch, label='chr12', ax=ax0, map_type='triangle', \n",
    "          maxrange=0.06, minrange=0,\n",
    "          height=40, logdata=False, ax_on=False)\n",
    "\n"
   ]
  },
  {
   "cell_type": "code",
   "execution_count": null,
   "metadata": {},
   "outputs": [],
   "source": []
  },
  {
   "cell_type": "code",
   "execution_count": null,
   "metadata": {},
   "outputs": [],
   "source": []
  },
  {
   "cell_type": "code",
   "execution_count": null,
   "metadata": {},
   "outputs": [],
   "source": []
  },
  {
   "cell_type": "code",
   "execution_count": null,
   "metadata": {},
   "outputs": [],
   "source": []
  }
 ],
 "metadata": {
  "kernelspec": {
   "display_name": "Python 3",
   "language": "python",
   "name": "python3"
  },
  "language_info": {
   "codemirror_mode": {
    "name": "ipython",
    "version": 3
   },
   "file_extension": ".py",
   "mimetype": "text/x-python",
   "name": "python",
   "nbconvert_exporter": "python",
   "pygments_lexer": "ipython3",
   "version": "3.8.5"
  }
 },
 "nbformat": 4,
 "nbformat_minor": 4
}
