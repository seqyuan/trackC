{
 "cells": [
  {
   "cell_type": "markdown",
   "metadata": {},
   "source": [
    "# Calculating compartments\n",
    "### test data\n",
    "HFF_MicroC.mcool: https://files.osf.io/v1/resources/hjcxg/providers/osfstorage/5f73756d9e9a3d03ec6e3922?action=download&direct&version=1"
   ]
  },
  {
   "cell_type": "code",
   "execution_count": 1,
   "metadata": {},
   "outputs": [
    {
     "name": "stderr",
     "output_type": "stream",
     "text": [
      "/Users/yuanzan/anaconda3/lib/python3.8/site-packages/cooltools/lib/numutils.py:652: NumbaDeprecationWarning: \u001b[1mThe 'nopython' keyword argument was not supplied to the 'numba.jit' decorator. The implicit default value for this argument is currently False, but it will be changed to True in Numba 0.59.0. See https://numba.readthedocs.io/en/stable/reference/deprecation.html#deprecation-of-object-mode-fall-back-behaviour-when-using-jit for details.\u001b[0m\n",
      "  def iterative_correction_symmetric(\n",
      "/Users/yuanzan/anaconda3/lib/python3.8/site-packages/cooltools/lib/numutils.py:727: NumbaDeprecationWarning: \u001b[1mThe 'nopython' keyword argument was not supplied to the 'numba.jit' decorator. The implicit default value for this argument is currently False, but it will be changed to True in Numba 0.59.0. See https://numba.readthedocs.io/en/stable/reference/deprecation.html#deprecation-of-object-mode-fall-back-behaviour-when-using-jit for details.\u001b[0m\n",
      "  def iterative_correction_asymmetric(x, max_iter=1000, tol=1e-5, verbose=False):\n"
     ]
    }
   ],
   "source": [
    "import cooler\n",
    "import pandas as pd\n",
    "import cooltools\n",
    "\n",
    "resolution = 100000\n",
    "coolfile=f'/Users/yuanzan/Downloads/HFF_MicroC.mcool::resolutions/{resolution}'\n",
    "clr=cooler.Cooler(coolfile)"
   ]
  },
  {
   "cell_type": "code",
   "execution_count": 2,
   "metadata": {},
   "outputs": [
    {
     "data": {
      "text/plain": [
       "name\n",
       "chr2     242193529\n",
       "chr17     83257441\n",
       "Name: length, dtype: int32"
      ]
     },
     "execution_count": 2,
     "metadata": {},
     "output_type": "execute_result"
    }
   ],
   "source": [
    "clr.chromsizes"
   ]
  },
  {
   "cell_type": "code",
   "execution_count": 3,
   "metadata": {},
   "outputs": [
    {
     "data": {
      "text/html": [
       "<div>\n",
       "<style scoped>\n",
       "    .dataframe tbody tr th:only-of-type {\n",
       "        vertical-align: middle;\n",
       "    }\n",
       "\n",
       "    .dataframe tbody tr th {\n",
       "        vertical-align: top;\n",
       "    }\n",
       "\n",
       "    .dataframe thead th {\n",
       "        text-align: right;\n",
       "    }\n",
       "</style>\n",
       "<table border=\"1\" class=\"dataframe\">\n",
       "  <thead>\n",
       "    <tr style=\"text-align: right;\">\n",
       "      <th></th>\n",
       "      <th>chrom</th>\n",
       "      <th>start</th>\n",
       "      <th>end</th>\n",
       "      <th>GC</th>\n",
       "    </tr>\n",
       "  </thead>\n",
       "  <tbody>\n",
       "    <tr>\n",
       "      <th>0</th>\n",
       "      <td>chr2</td>\n",
       "      <td>0</td>\n",
       "      <td>100000</td>\n",
       "      <td>0.435867</td>\n",
       "    </tr>\n",
       "    <tr>\n",
       "      <th>1</th>\n",
       "      <td>chr2</td>\n",
       "      <td>100000</td>\n",
       "      <td>200000</td>\n",
       "      <td>0.409530</td>\n",
       "    </tr>\n",
       "    <tr>\n",
       "      <th>2</th>\n",
       "      <td>chr2</td>\n",
       "      <td>200000</td>\n",
       "      <td>300000</td>\n",
       "      <td>0.421890</td>\n",
       "    </tr>\n",
       "    <tr>\n",
       "      <th>3</th>\n",
       "      <td>chr2</td>\n",
       "      <td>300000</td>\n",
       "      <td>400000</td>\n",
       "      <td>0.431870</td>\n",
       "    </tr>\n",
       "    <tr>\n",
       "      <th>4</th>\n",
       "      <td>chr2</td>\n",
       "      <td>400000</td>\n",
       "      <td>500000</td>\n",
       "      <td>0.458610</td>\n",
       "    </tr>\n",
       "    <tr>\n",
       "      <th>...</th>\n",
       "      <td>...</td>\n",
       "      <td>...</td>\n",
       "      <td>...</td>\n",
       "      <td>...</td>\n",
       "    </tr>\n",
       "    <tr>\n",
       "      <th>3250</th>\n",
       "      <td>chr17</td>\n",
       "      <td>82800000</td>\n",
       "      <td>82900000</td>\n",
       "      <td>0.528210</td>\n",
       "    </tr>\n",
       "    <tr>\n",
       "      <th>3251</th>\n",
       "      <td>chr17</td>\n",
       "      <td>82900000</td>\n",
       "      <td>83000000</td>\n",
       "      <td>0.518530</td>\n",
       "    </tr>\n",
       "    <tr>\n",
       "      <th>3252</th>\n",
       "      <td>chr17</td>\n",
       "      <td>83000000</td>\n",
       "      <td>83100000</td>\n",
       "      <td>0.561450</td>\n",
       "    </tr>\n",
       "    <tr>\n",
       "      <th>3253</th>\n",
       "      <td>chr17</td>\n",
       "      <td>83100000</td>\n",
       "      <td>83200000</td>\n",
       "      <td>0.535119</td>\n",
       "    </tr>\n",
       "    <tr>\n",
       "      <th>3254</th>\n",
       "      <td>chr17</td>\n",
       "      <td>83200000</td>\n",
       "      <td>83257441</td>\n",
       "      <td>0.473451</td>\n",
       "    </tr>\n",
       "  </tbody>\n",
       "</table>\n",
       "<p>3255 rows × 4 columns</p>\n",
       "</div>"
      ],
      "text/plain": [
       "      chrom     start       end        GC\n",
       "0      chr2         0    100000  0.435867\n",
       "1      chr2    100000    200000  0.409530\n",
       "2      chr2    200000    300000  0.421890\n",
       "3      chr2    300000    400000  0.431870\n",
       "4      chr2    400000    500000  0.458610\n",
       "...     ...       ...       ...       ...\n",
       "3250  chr17  82800000  82900000  0.528210\n",
       "3251  chr17  82900000  83000000  0.518530\n",
       "3252  chr17  83000000  83100000  0.561450\n",
       "3253  chr17  83100000  83200000  0.535119\n",
       "3254  chr17  83200000  83257441  0.473451\n",
       "\n",
       "[3255 rows x 4 columns]"
      ]
     },
     "metadata": {},
     "output_type": "display_data"
    }
   ],
   "source": [
    "## fasta sequence is required for calculating binned profile of GC conent\n",
    "import bioframe\n",
    "bins = clr.bins()[:]\n",
    "### Unified chromosome Naming\n",
    "bins['chrom'] = bins['chrom'].str.lstrip('chr')\n",
    "\n",
    "hg38_genome = bioframe.load_fasta('/Users/yuanzan/Documents/ref/GRCh38.105.fa');\n",
    "## note the next command may require installing pysam\n",
    "gc_cov = bioframe.frac_gc(bins[['chrom', 'start', 'end']], hg38_genome)\n",
    "gc_cov['chrom'] = 'chr' + gc_cov['chrom'].astype(str)\n",
    "gc_cov.to_csv('hg38_gc_cov_100kb.tsv',index=False,sep='\\t')\n",
    "display(gc_cov)"
   ]
  },
  {
   "cell_type": "code",
   "execution_count": 4,
   "metadata": {},
   "outputs": [
    {
     "data": {
      "text/html": [
       "<div>\n",
       "<style scoped>\n",
       "    .dataframe tbody tr th:only-of-type {\n",
       "        vertical-align: middle;\n",
       "    }\n",
       "\n",
       "    .dataframe tbody tr th {\n",
       "        vertical-align: top;\n",
       "    }\n",
       "\n",
       "    .dataframe thead th {\n",
       "        text-align: right;\n",
       "    }\n",
       "</style>\n",
       "<table border=\"1\" class=\"dataframe\">\n",
       "  <thead>\n",
       "    <tr style=\"text-align: right;\">\n",
       "      <th></th>\n",
       "      <th>chrom</th>\n",
       "      <th>start</th>\n",
       "      <th>end</th>\n",
       "      <th>name</th>\n",
       "    </tr>\n",
       "  </thead>\n",
       "  <tbody>\n",
       "    <tr>\n",
       "      <th>0</th>\n",
       "      <td>chr2</td>\n",
       "      <td>0</td>\n",
       "      <td>242193529</td>\n",
       "      <td>chr2</td>\n",
       "    </tr>\n",
       "    <tr>\n",
       "      <th>1</th>\n",
       "      <td>chr17</td>\n",
       "      <td>0</td>\n",
       "      <td>83257441</td>\n",
       "      <td>chr17</td>\n",
       "    </tr>\n",
       "  </tbody>\n",
       "</table>\n",
       "</div>"
      ],
      "text/plain": [
       "   chrom  start        end   name\n",
       "0   chr2      0  242193529   chr2\n",
       "1  chr17      0   83257441  chr17"
      ]
     },
     "metadata": {},
     "output_type": "display_data"
    }
   ],
   "source": [
    "view_df = pd.DataFrame({'chrom': clr.chromnames,\n",
    "                        'start': 0,\n",
    "                        'end': clr.chromsizes.values,\n",
    "                        'name': clr.chromnames}\n",
    "                      )\n",
    "display(view_df)"
   ]
  },
  {
   "cell_type": "code",
   "execution_count": 5,
   "metadata": {},
   "outputs": [
    {
     "name": "stderr",
     "output_type": "stream",
     "text": [
      "/Users/yuanzan/anaconda3/lib/python3.8/site-packages/cooltools/lib/checks.py:550: FutureWarning: In a future version of pandas, a length 1 tuple will be returned when iterating over a groupby with a grouper equal to a list of length 1. Don't supply a list with a single grouper to avoid this warning.\n",
      "  for name, group in track.groupby([track.columns[0]]):\n"
     ]
    },
    {
     "data": {
      "text/html": [
       "<div>\n",
       "<style scoped>\n",
       "    .dataframe tbody tr th:only-of-type {\n",
       "        vertical-align: middle;\n",
       "    }\n",
       "\n",
       "    .dataframe tbody tr th {\n",
       "        vertical-align: top;\n",
       "    }\n",
       "\n",
       "    .dataframe thead th {\n",
       "        text-align: right;\n",
       "    }\n",
       "</style>\n",
       "<table border=\"1\" class=\"dataframe\">\n",
       "  <thead>\n",
       "    <tr style=\"text-align: right;\">\n",
       "      <th></th>\n",
       "      <th>chrom</th>\n",
       "      <th>start</th>\n",
       "      <th>end</th>\n",
       "      <th>name</th>\n",
       "      <th>eigval1</th>\n",
       "      <th>eigval2</th>\n",
       "      <th>eigval3</th>\n",
       "    </tr>\n",
       "  </thead>\n",
       "  <tbody>\n",
       "    <tr>\n",
       "      <th>0</th>\n",
       "      <td>chr2</td>\n",
       "      <td>0</td>\n",
       "      <td>242193529</td>\n",
       "      <td>chr2</td>\n",
       "      <td>1228.444578</td>\n",
       "      <td>455.255083</td>\n",
       "      <td>-413.285697</td>\n",
       "    </tr>\n",
       "    <tr>\n",
       "      <th>1</th>\n",
       "      <td>chr17</td>\n",
       "      <td>0</td>\n",
       "      <td>83257441</td>\n",
       "      <td>chr17</td>\n",
       "      <td>363.105343</td>\n",
       "      <td>187.531256</td>\n",
       "      <td>-151.825899</td>\n",
       "    </tr>\n",
       "  </tbody>\n",
       "</table>\n",
       "</div>"
      ],
      "text/plain": [
       "   chrom  start        end   name      eigval1     eigval2     eigval3\n",
       "0   chr2      0  242193529   chr2  1228.444578  455.255083 -413.285697\n",
       "1  chr17      0   83257441  chr17   363.105343  187.531256 -151.825899"
      ]
     },
     "metadata": {},
     "output_type": "display_data"
    }
   ],
   "source": [
    "# obtain first 3 eigenvectors\n",
    "cis_eigs = cooltools.eigs_cis(\n",
    "                        clr,\n",
    "                        gc_cov,\n",
    "                        view_df=view_df,\n",
    "                        n_eigs=3,\n",
    "                        )\n",
    "# cis_eigs[0] returns eigenvalues, here we focus on eigenvectors\n",
    "display(cis_eigs[0])\n",
    "eigenvector_track = cis_eigs[1][['chrom','start','end','E1']]"
   ]
  },
  {
   "cell_type": "code",
   "execution_count": 6,
   "metadata": {},
   "outputs": [],
   "source": [
    "eigenvector_track.to_csv('eigenvector_track.bdg', sep=\"\\t\", index=False, header=False)"
   ]
  },
  {
   "cell_type": "markdown",
   "metadata": {},
   "source": [
    "## visualization of insulation"
   ]
  },
  {
   "cell_type": "code",
   "execution_count": 7,
   "metadata": {},
   "outputs": [],
   "source": [
    "import trackc as tc"
   ]
  },
  {
   "cell_type": "code",
   "execution_count": 8,
   "metadata": {},
   "outputs": [
    {
     "name": "stdout",
     "output_type": "stream",
     "text": [
      "no max min range\n",
      "maxrange: 119.0 minrange: 1.0\n"
     ]
    },
    {
     "data": {
      "image/png": "[encoded data removed]",
      "text/plain": [
       "<Figure size 504x72 with 1 Axes>"
      ]
     },
     "metadata": {
      "needs_background": "light"
     },
     "output_type": "display_data"
    }
   ],
   "source": [
    "regions = \"chr2:0-242193529\"\n",
    "\n",
    "HFF = tc.tl.extractCisContact(clr=coolfile, region=regions)\n",
    "\n",
    "ten = tc.tenon(figsize=(7, 1))\n",
    "ten.add(pos=\"bottom\", height=3.5, hspace=0.05)\n",
    "ten.add(pos=\"bottom\", height=1, hspace=0.09)\n",
    "ten.add(pos=\"bottom\", height=0.4, hspace=0.09)\n",
    "\n",
    "\n",
    "tc.pl.mapC(\n",
    "    ax=ten.axs(0),\n",
    "    mat=HFF,\n",
    "    label=\"HFF\",\n",
    "    map_type=\"tri\",\n",
    "    ax_on=False\n",
    ")\n",
    "\n",
    "tc.pl.bed_track(\n",
    "    ax=ten.axs(1),\n",
    "    bed=eigenvector_track,\n",
    "    regions=regions,\n",
    "    style=\"bar\",\n",
    "    label=\"Eign1\"\n",
    ")\n",
    "\n",
    "\n",
    "tc.pl.bed_track(\n",
    "    ax=ten.axs(2),\n",
    "    bed=gc_cov,\n",
    "    regions=regions,\n",
    "    style=\"rec\",\n",
    "    label=\"GC\",\n",
    "    cmap='Blues'\n",
    ")\n",
    "\n",
    "\n",
    "tc.pl.scale_track(ax=ten.axs(2), region=regions, scale_adjust=\"Mb\", tick_pos=\"bottom\", ratio2ax=2, space=0)\n"
   ]
  }
 ],
 "metadata": {
  "kernelspec": {
   "display_name": "Python 3",
   "language": "python",
   "name": "python3"
  },
  "language_info": {
   "codemirror_mode": {
    "name": "ipython",
    "version": 3
   },
   "file_extension": ".py",
   "mimetype": "text/x-python",
   "name": "python",
   "nbconvert_exporter": "python",
   "pygments_lexer": "ipython3",
   "version": "3.8.5"
  }
 },
 "nbformat": 4,
 "nbformat_minor": 4
}
