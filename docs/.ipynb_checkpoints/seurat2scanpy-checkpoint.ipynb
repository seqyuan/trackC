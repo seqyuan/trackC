{
 "cells": [
  {
   "cell_type": "markdown",
   "metadata": {},
   "source": [
    "#### convert seurat to scanpy\n",
    "\n",
    "singlecell seurat(RDS) to scanpy(h5ad) \n",
    "\n",
    "* R code\n",
    "\n",
    "```R\n",
    "library(Seurat)\n",
    "library(SeuratDisk)\n",
    "\n",
    "srt <- readRDS('subDC.rds')\n",
    "\n",
    "# convert factor to character \n",
    "i <- sapply(srt@meta.data, is.factor)\n",
    "srt@meta.data[i] <- lapply(srt@meta.data[i], as.character)\n",
    "\n",
    "DefaultAssay(srt) <- 'RNA' # set default assay\n",
    "SaveH5Seurat(srt, filename = 'srt.h5seurat', overwrite = TRUE)\n",
    "Convert('srt.h5seurat','srt.h5ad', assay='RNA', overwrite = TRUE)\n",
    "```"
   ]
  },
  {
   "cell_type": "code",
   "execution_count": null,
   "metadata": {},
   "outputs": [],
   "source": []
  }
 ],
 "metadata": {
  "kernelspec": {
   "display_name": "R",
   "language": "R",
   "name": "ir"
  },
  "language_info": {
   "codemirror_mode": "r",
   "file_extension": ".r",
   "mimetype": "text/x-r-source",
   "name": "R",
   "pygments_lexer": "r",
   "version": "4.0.4"
  }
 },
 "nbformat": 4,
 "nbformat_minor": 4
}
