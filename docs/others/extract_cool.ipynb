{
 "cells": [
  {
   "cell_type": "markdown",
   "metadata": {},
   "source": [
    "# Extract cool2newcool"
   ]
  },
  {
   "cell_type": "markdown",
   "metadata": {},
   "source": [
    "```shell\n",
    "#regions := chr8:127000000-129200000 chr14:96500000-99300000\n",
    "r1=chr8:127000000-129200000\n",
    "r2=chr14:96500000-99300000\n",
    "#regions := chr14:96500000-99300000\n",
    "binsize=10000\n",
    "chrom_sizes=~/Documents/ref/chrom_GRCh38.105.sizes\n",
    "in_cool=GSM4604287_1360.iced.mcool::/resolutions/10000\n",
    "out_cool=~/Documents/github/seqyuan/trackc_data/tutorials/4C/GSM4604287_1360.sub.cool\n",
    "\n",
    "subset:\n",
    "\t@if [ -e cool.tmp.txt ]; then \\\n",
    "\t\trm cool.tmp.txt;\\\n",
    "\tfi\n",
    "\t@$(foreach regin, $(regions), cooler dump --join -r $(regin) $(in_cool) >>cool.tmp.txt;)\n",
    "\tcat cool.tmp.txt |cooler load --format bg2 $(chrom_sizes):$(binsize) - $(out_cool)\n",
    "\t#rm cool.tmp.txt\n",
    "\n",
    "extract:\n",
    "\t@if [ -e cool.tmp.txt ]; then \\\n",
    "\t\trm cool.tmp.txt;\\\n",
    "\tfi\n",
    "\tcooler dump --join -r $(r1) $(in_cool) >cool.tmp.txt\n",
    "\tcooler dump --join -r $(r2) $(in_cool) >>cool.tmp.txt\n",
    "\tcooler dump --join -r $(r1) -r2 $(r2) $(in_cool) >>cool.tmp.txt\n",
    "\tcat cool.tmp.txt |cooler load --format bg2 $(chrom_sizes):$(binsize) - $(out_cool)\n",
    "\trm cool.tmp.txt\n",
    "```"
   ]
  },
  {
   "cell_type": "code",
   "execution_count": null,
   "metadata": {},
   "outputs": [],
   "source": [
    "import sys,os\n",
    "os.chdir('~/Documents/github/seqyuan/trackc_data/tutorials/4C')\n",
    "sys.path.append('~/Documents/github/seqyuan/trackc/src')"
   ]
  }
 ],
 "metadata": {
  "kernelspec": {
   "display_name": "Python 3",
   "language": "python",
   "name": "python3"
  },
  "language_info": {
   "codemirror_mode": {
    "name": "ipython",
    "version": 3
   },
   "file_extension": ".py",
   "mimetype": "text/x-python",
   "name": "python",
   "nbconvert_exporter": "python",
   "pygments_lexer": "ipython3",
   "version": "3.8.5"
  }
 },
 "nbformat": 4,
 "nbformat_minor": 4
}
