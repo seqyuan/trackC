{
 "cells": [
  {
   "cell_type": "markdown",
   "metadata": {},
   "source": [
    "# Extract/subset bigwig \n",
    "\n",
    "**Extract/subset bigwig file for a given genomic region**"
   ]
  },
  {
   "cell_type": "code",
   "execution_count": 1,
   "metadata": {},
   "outputs": [],
   "source": [
    "import os\n",
    "\n",
    "def extract_and_save_regions(input_file, output_file, regions):\n",
    "    # 打开输入bigwig文件\n",
    "    with pyBigWig.open(input_file) as bw_in:\n",
    "        # 创建一个新的bigwig文件\n",
    "        headers = [(chrom, bw_in.chroms()[chrom]) for chrom in set([i.split(':')[0] for i in regions])]\n",
    "        with pyBigWig.open(output_file, 'w') as bw_out:\n",
    "            # 遍历每个区域\n",
    "            bw_out.addHeader(headers)\n",
    "            for region in regions:\n",
    "                chrom, interval = region.split(':')\n",
    "                start, end = map(int, interval.split('-'))\n",
    "\n",
    "                xxx = bw_in.intervals(chrom, start, end)\n",
    "                starts = [i[0] for i in xxx]\n",
    "                ends = [i[1] for i in xxx]\n",
    "                values = [i[2] for i in xxx]\n",
    "                bw_out.addEntries([chrom] * len(xxx), starts, ends=ends, values=values)\n"
   ]
  },
  {
   "cell_type": "code",
   "execution_count": 2,
   "metadata": {},
   "outputs": [],
   "source": [
    "import pyBigWig\n",
    "\n",
    "input_bigwig_file = './GSE152136_RAW/GSM4604189_1360_CUT_TAG_H3K27ac.MACS2.nodup_x_ctl.pval.signal.bigwig'\n",
    "output_bigwig_file = 'GSM4604189_H3K27ac.bw'\n",
    "\n",
    "# 区域列表\n",
    "regions = ['chr8:127000000-129200000', 'chr14:96000000-99500000']\n",
    "\n",
    "extract_and_save_regions(input_bigwig_file, output_bigwig_file, regions)"
   ]
  }
 ],
 "metadata": {
  "kernelspec": {
   "display_name": "Python 3",
   "language": "python",
   "name": "python3"
  },
  "language_info": {
   "codemirror_mode": {
    "name": "ipython",
    "version": 3
   },
   "file_extension": ".py",
   "mimetype": "text/x-python",
   "name": "python",
   "nbconvert_exporter": "python",
   "pygments_lexer": "ipython3",
   "version": "3.8.5"
  }
 },
 "nbformat": 4,
 "nbformat_minor": 4
}
