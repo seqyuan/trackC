{
 "cells": [
  {
   "cell_type": "markdown",
   "metadata": {},
   "source": [
    "# bedGraph To BigWig"
   ]
  },
  {
   "cell_type": "markdown",
   "metadata": {},
   "source": [
    "```shell\n",
    "# 获取程序\n",
    "wget http://hgdownload.cse.ucsc.edu/admin/exe/linux.x86_64/bedGraphToBigWig\n",
    "# 加执行权限\n",
    "chmod +x bedGraphToBigWig\n",
    "# 将该文件移入PATH路径中，即可执行\n",
    "mv bedGraphToBigWig ~/bin/\n",
    "```"
   ]
  },
  {
   "cell_type": "markdown",
   "metadata": {},
   "source": [
    "```shell\n",
    "~/bin/bedGraphToBigWig insulation.bdg ~/Documents/ref/chrom_GRCh38.105.sizes insulation.bw\n",
    "```"
   ]
  },
  {
   "cell_type": "markdown",
   "metadata": {},
   "source": [
    "`head ~/Documents/ref/chrom_GRCh38.105.sizes`\n",
    "\n",
    "```\n",
    "chr1\t248956422\n",
    "chr2\t242193529\n",
    "chr3\t198295559\n",
    "chr4\t190214555\n",
    "chr5\t181538259\n",
    "```\n",
    "\n",
    "`head insulation.bdg`\n",
    "\n",
    "```\n",
    "chr1\t0\t10000\t1\n",
    "chr1\t10000\t20000\t0\n",
    "chr1\t20000\t30000\t3\n",
    "chr1\t30000\t40000\t10\n",
    "chr1\t40000\t50000\t11\n",
    "```"
   ]
  }
 ],
 "metadata": {
  "kernelspec": {
   "display_name": "Python 3",
   "language": "python",
   "name": "python3"
  },
  "language_info": {
   "codemirror_mode": {
    "name": "ipython",
    "version": 3
   },
   "file_extension": ".py",
   "mimetype": "text/x-python",
   "name": "python",
   "nbconvert_exporter": "python",
   "pygments_lexer": "ipython3",
   "version": "3.8.5"
  }
 },
 "nbformat": 4,
 "nbformat_minor": 4
}
