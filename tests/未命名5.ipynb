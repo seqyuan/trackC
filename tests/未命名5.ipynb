{
 "cells": [
  {
   "cell_type": "code",
   "execution_count": 1,
   "metadata": {},
   "outputs": [
    {
     "name": "stderr",
     "output_type": "stream",
     "text": [
      "Attaching SeuratObject\n",
      "\n"
     ]
    }
   ],
   "source": [
    "library(Seurat)"
   ]
  },
  {
   "cell_type": "code",
   "execution_count": 14,
   "metadata": {},
   "outputs": [
    {
     "data": {
      "text/html": [
       "<table class=\"dataframe\">\n",
       "<caption>A data.frame: 3 × 3</caption>\n",
       "<thead>\n",
       "\t<tr><th></th><th scope=col>g1</th><th scope=col>g2</th><th scope=col>g3</th></tr>\n",
       "\t<tr><th></th><th scope=col>&lt;int&gt;</th><th scope=col>&lt;int&gt;</th><th scope=col>&lt;int&gt;</th></tr>\n",
       "</thead>\n",
       "<tbody>\n",
       "\t<tr><th scope=row>c1</th><td>1</td><td>1</td><td>1</td></tr>\n",
       "\t<tr><th scope=row>c2</th><td>0</td><td>1</td><td>0</td></tr>\n",
       "\t<tr><th scope=row>c3</th><td>1</td><td>0</td><td>1</td></tr>\n",
       "</tbody>\n",
       "</table>\n"
      ],
      "text/latex": [
       "A data.frame: 3 × 3\n",
       "\\begin{tabular}{r|lll}\n",
       "  & g1 & g2 & g3\\\\\n",
       "  & <int> & <int> & <int>\\\\\n",
       "\\hline\n",
       "\tc1 & 1 & 1 & 1\\\\\n",
       "\tc2 & 0 & 1 & 0\\\\\n",
       "\tc3 & 1 & 0 & 1\\\\\n",
       "\\end{tabular}\n"
      ],
      "text/markdown": [
       "\n",
       "A data.frame: 3 × 3\n",
       "\n",
       "| <!--/--> | g1 &lt;int&gt; | g2 &lt;int&gt; | g3 &lt;int&gt; |\n",
       "|---|---|---|---|\n",
       "| c1 | 1 | 1 | 1 |\n",
       "| c2 | 0 | 1 | 0 |\n",
       "| c3 | 1 | 0 | 1 |\n",
       "\n"
      ],
      "text/plain": [
       "   g1 g2 g3\n",
       "c1 1  1  1 \n",
       "c2 0  1  0 \n",
       "c3 1  0  1 "
      ]
     },
     "metadata": {},
     "output_type": "display_data"
    },
    {
     "data": {
      "text/html": [
       "<table class=\"dataframe\">\n",
       "<caption>A data.frame: 3 × 3</caption>\n",
       "<thead>\n",
       "\t<tr><th></th><th scope=col>g1</th><th scope=col>g2</th><th scope=col>g3</th></tr>\n",
       "\t<tr><th></th><th scope=col>&lt;int&gt;</th><th scope=col>&lt;int&gt;</th><th scope=col>&lt;int&gt;</th></tr>\n",
       "</thead>\n",
       "<tbody>\n",
       "\t<tr><th scope=row>c1</th><td>0</td><td>1</td><td>1</td></tr>\n",
       "\t<tr><th scope=row>c2</th><td>0</td><td>1</td><td>0</td></tr>\n",
       "\t<tr><th scope=row>c3</th><td>0</td><td>1</td><td>1</td></tr>\n",
       "</tbody>\n",
       "</table>\n"
      ],
      "text/latex": [
       "A data.frame: 3 × 3\n",
       "\\begin{tabular}{r|lll}\n",
       "  & g1 & g2 & g3\\\\\n",
       "  & <int> & <int> & <int>\\\\\n",
       "\\hline\n",
       "\tc1 & 0 & 1 & 1\\\\\n",
       "\tc2 & 0 & 1 & 0\\\\\n",
       "\tc3 & 0 & 1 & 1\\\\\n",
       "\\end{tabular}\n"
      ],
      "text/markdown": [
       "\n",
       "A data.frame: 3 × 3\n",
       "\n",
       "| <!--/--> | g1 &lt;int&gt; | g2 &lt;int&gt; | g3 &lt;int&gt; |\n",
       "|---|---|---|---|\n",
       "| c1 | 0 | 1 | 1 |\n",
       "| c2 | 0 | 1 | 0 |\n",
       "| c3 | 0 | 1 | 1 |\n",
       "\n"
      ],
      "text/plain": [
       "   g1 g2 g3\n",
       "c1 0  1  1 \n",
       "c2 0  1  0 \n",
       "c3 0  1  1 "
      ]
     },
     "metadata": {},
     "output_type": "display_data"
    },
    {
     "name": "stderr",
     "output_type": "stream",
     "text": [
      "Warning message:\n",
      "“The following arguments are not used: row.names”\n",
      "Warning message:\n",
      "“The following arguments are not used: row.names”\n"
     ]
    }
   ],
   "source": [
    "a = read.table('a.txt')\n",
    "a\n",
    "b = read.table('b.txt')\n",
    "b\n",
    "a= CreateSeuratObject(t(a), names.field = 1)\n",
    "b= CreateSeuratObject(t(b), names.field = 1)\n"
   ]
  },
  {
   "cell_type": "code",
   "execution_count": 27,
   "metadata": {},
   "outputs": [
    {
     "name": "stderr",
     "output_type": "stream",
     "text": [
      "Warning message in CheckDuplicateCellNames(object.list = objects):\n",
      "“Some cell names are duplicated across objects provided. Renaming to enforce unique cell names.”\n"
     ]
    }
   ],
   "source": [
    "c = merge(a,b, add.cell.ids = c(\"4K\", \"4K\"))"
   ]
  },
  {
   "cell_type": "code",
   "execution_count": 28,
   "metadata": {},
   "outputs": [
    {
     "data": {
      "text/plain": [
       "3 x 6 sparse Matrix of class \"dgCMatrix\"\n",
       "   4K_c1_1 4K_c2_1 4K_c3_1 4K_c1_2 4K_c2_2 4K_c3_2\n",
       "g1       1       .       1       .       .       .\n",
       "g2       1       1       .       1       1       1\n",
       "g3       1       .       1       1       .       1"
      ]
     },
     "metadata": {},
     "output_type": "display_data"
    }
   ],
   "source": [
    "c@assays$RNA@counts"
   ]
  },
  {
   "cell_type": "code",
   "execution_count": 25,
   "metadata": {},
   "outputs": [
    {
     "data": {
      "text/plain": [
       "3 x 3 sparse Matrix of class \"dgCMatrix\"\n",
       "   c1 c2 c3\n",
       "g1  1  .  1\n",
       "g2  1  1  .\n",
       "g3  1  .  1"
      ]
     },
     "metadata": {},
     "output_type": "display_data"
    }
   ],
   "source": [
    "a@assays$RNA@counts"
   ]
  },
  {
   "cell_type": "code",
   "execution_count": 26,
   "metadata": {},
   "outputs": [
    {
     "data": {
      "text/plain": [
       "3 x 3 sparse Matrix of class \"dgCMatrix\"\n",
       "   c1 c2 c3\n",
       "g1  .  .  .\n",
       "g2  1  1  1\n",
       "g3  1  .  1"
      ]
     },
     "metadata": {},
     "output_type": "display_data"
    }
   ],
   "source": [
    "b@assays$RNA@counts"
   ]
  },
  {
   "cell_type": "code",
   "execution_count": 29,
   "metadata": {},
   "outputs": [
    {
     "data": {
      "text/html": [
       "<table class=\"dataframe\">\n",
       "<caption>A data.frame: 3 × 3</caption>\n",
       "<thead>\n",
       "\t<tr><th></th><th scope=col>orig.ident</th><th scope=col>nCount_RNA</th><th scope=col>nFeature_RNA</th></tr>\n",
       "\t<tr><th></th><th scope=col>&lt;fct&gt;</th><th scope=col>&lt;dbl&gt;</th><th scope=col>&lt;int&gt;</th></tr>\n",
       "</thead>\n",
       "<tbody>\n",
       "\t<tr><th scope=row>c1</th><td>SeuratProject</td><td>3</td><td>3</td></tr>\n",
       "\t<tr><th scope=row>c2</th><td>SeuratProject</td><td>1</td><td>1</td></tr>\n",
       "\t<tr><th scope=row>c3</th><td>SeuratProject</td><td>2</td><td>2</td></tr>\n",
       "</tbody>\n",
       "</table>\n"
      ],
      "text/latex": [
       "A data.frame: 3 × 3\n",
       "\\begin{tabular}{r|lll}\n",
       "  & orig.ident & nCount\\_RNA & nFeature\\_RNA\\\\\n",
       "  & <fct> & <dbl> & <int>\\\\\n",
       "\\hline\n",
       "\tc1 & SeuratProject & 3 & 3\\\\\n",
       "\tc2 & SeuratProject & 1 & 1\\\\\n",
       "\tc3 & SeuratProject & 2 & 2\\\\\n",
       "\\end{tabular}\n"
      ],
      "text/markdown": [
       "\n",
       "A data.frame: 3 × 3\n",
       "\n",
       "| <!--/--> | orig.ident &lt;fct&gt; | nCount_RNA &lt;dbl&gt; | nFeature_RNA &lt;int&gt; |\n",
       "|---|---|---|---|\n",
       "| c1 | SeuratProject | 3 | 3 |\n",
       "| c2 | SeuratProject | 1 | 1 |\n",
       "| c3 | SeuratProject | 2 | 2 |\n",
       "\n"
      ],
      "text/plain": [
       "   orig.ident    nCount_RNA nFeature_RNA\n",
       "c1 SeuratProject 3          3           \n",
       "c2 SeuratProject 1          1           \n",
       "c3 SeuratProject 2          2           "
      ]
     },
     "metadata": {},
     "output_type": "display_data"
    }
   ],
   "source": [
    "a@meta.data"
   ]
  },
  {
   "cell_type": "code",
   "execution_count": null,
   "metadata": {},
   "outputs": [],
   "source": []
  },
  {
   "cell_type": "code",
   "execution_count": null,
   "metadata": {},
   "outputs": [],
   "source": []
  }
 ],
 "metadata": {
  "kernelspec": {
   "display_name": "R",
   "language": "R",
   "name": "ir"
  },
  "language_info": {
   "codemirror_mode": "r",
   "file_extension": ".r",
   "mimetype": "text/x-r-source",
   "name": "R",
   "pygments_lexer": "r",
   "version": "4.0.4"
  }
 },
 "nbformat": 4,
 "nbformat_minor": 4
}
