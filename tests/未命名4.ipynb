{
 "cells": [
  {
   "cell_type": "code",
   "execution_count": 1,
   "metadata": {},
   "outputs": [
    {
     "name": "stderr",
     "output_type": "stream",
     "text": [
      "/Users/yuanzan/anaconda3/lib/python3.8/site-packages/pandas/core/computation/expressions.py:20: UserWarning: Pandas requires version '2.7.3' or newer of 'numexpr' (version '2.7.1' currently installed).\n",
      "  from pandas.core.computation.check import NUMEXPR_INSTALLED\n"
     ]
    },
    {
     "data": {
      "image/png": "[encoded data removed]",
      "text/plain": [
       "<Figure size 432x72 with 1 Axes>"
      ]
     },
     "metadata": {
      "needs_background": "light"
     },
     "output_type": "display_data"
    }
   ],
   "source": [
    "import sys\n",
    "\n",
    "import matplotlib.pyplot as plt\n",
    "sys.path.append('/Users/yuanzan/Documents/github/seqyuan/trackc/src/')\n",
    "import trackc\n",
    "fig, ax = plt.subplots(1, 1, figsize=(6, 1))\n",
    "trackc.pl.scale_track(ax, regions=[\"18:45000000-78077248\"], scale_adjust='Mb', tick_pos='bottom')\n"
   ]
  },
  {
   "cell_type": "code",
   "execution_count": null,
   "metadata": {},
   "outputs": [],
   "source": []
  },
  {
   "cell_type": "code",
   "execution_count": null,
   "metadata": {},
   "outputs": [],
   "source": []
  },
  {
   "cell_type": "code",
   "execution_count": 1,
   "metadata": {},
   "outputs": [
    {
     "name": "stderr",
     "output_type": "stream",
     "text": [
      "<ipython-input-1-e98067789779>:34: UserWarning: FixedFormatter should only be used together with FixedLocator\n",
      "  ax.set_xticklabels(labels)\n"
     ]
    },
    {
     "data": {
      "image/png": "[encoded data removed]",
      "text/plain": [
       "<Figure size 432x72 with 1 Axes>"
      ]
     },
     "metadata": {
      "needs_background": "light"
     },
     "output_type": "display_data"
    }
   ],
   "source": [
    "import matplotlib.pyplot as plt\n",
    "import numpy as np\n",
    "\n",
    "# Generate some sample data\n",
    "x = np.linspace(0, 10, 100)\n",
    "y = np.sin(x)\n",
    "\n",
    "fig, ax = plt.subplots(1, 1, figsize=(6, 1))\n",
    "\n",
    "# Create a plot with x-axis tick labels\n",
    "ax.plot(x, y)\n",
    "#ax.xticks(np.linspace(0, 10, 11), np.arange(11))\n",
    "\n",
    "# Set the x-axis tick labels to face inside and adjust position\n",
    "ax.tick_params(axis='x', direction='in', top=True, pad=-15)\n",
    "\n",
    "# Set the x-axis label position\n",
    "#ax.xlabel('X Label')\n",
    "#plt.set_label_coords(0.5, 1)\n",
    "\n",
    "a= ax.get_xticklabels()\n",
    "b = ax.get_xticks\n",
    "\n",
    "#for i, label in enumerate(ax.get_xticklabels(which='major')):\n",
    "#    print(i)\n",
    "#    label.set(rotation=30, horizontalalignment='right')\n",
    "#a[-1].set(rotation=30, horizontalalignment='right')\n",
    "\n",
    "labels = [label.get_text() for label in ax.get_xticklabels()]\n",
    "# Modify the last label to add \"(M)\"\n",
    "labels[-1] += '(M)'\n",
    "\n",
    "# Set the new tick labels\n",
    "ax.set_xticklabels(labels)\n",
    "\n",
    "# Show the plot\n",
    "plt.show()\n"
   ]
  },
  {
   "cell_type": "code",
   "execution_count": 25,
   "metadata": {},
   "outputs": [
    {
     "data": {
      "text/plain": [
       "['−2', '0', '2', '4', '6', '8', '10', '12']"
      ]
     },
     "execution_count": 25,
     "metadata": {},
     "output_type": "execute_result"
    }
   ],
   "source": [
    "labels"
   ]
  },
  {
   "cell_type": "code",
   "execution_count": 12,
   "metadata": {},
   "outputs": [
    {
     "data": {
      "text/plain": [
       "<bound method _AxesBase.get_xticks of <AxesSubplot: >>"
      ]
     },
     "execution_count": 12,
     "metadata": {},
     "output_type": "execute_result"
    }
   ],
   "source": [
    "b"
   ]
  },
  {
   "cell_type": "code",
   "execution_count": null,
   "metadata": {},
   "outputs": [],
   "source": [
    "for i in "
   ]
  }
 ],
 "metadata": {
  "kernelspec": {
   "display_name": "Python 3",
   "language": "python",
   "name": "python3"
  },
  "language_info": {
   "codemirror_mode": {
    "name": "ipython",
    "version": 3
   },
   "file_extension": ".py",
   "mimetype": "text/x-python",
   "name": "python",
   "nbconvert_exporter": "python",
   "pygments_lexer": "ipython3",
   "version": "3.8.5"
  }
 },
 "nbformat": 4,
 "nbformat_minor": 4
}
